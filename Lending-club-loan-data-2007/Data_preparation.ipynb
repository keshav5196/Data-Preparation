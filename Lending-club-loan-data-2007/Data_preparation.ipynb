{
  "nbformat": 4,
  "nbformat_minor": 0,
  "metadata": {
    "colab": {
      "name": "Data preparation.ipynb",
      "provenance": [],
      "collapsed_sections": []
    },
    "kernelspec": {
      "name": "python3",
      "display_name": "Python 3"
    }
  },
  "cells": [
    {
      "cell_type": "code",
      "metadata": {
        "id": "Drn9iQDXSlyF",
        "colab_type": "code",
        "outputId": "5d5a1b57-88d1-4e96-e5cf-65ca4b982d1e",
        "colab": {
          "base_uri": "https://localhost:8080/",
          "height": 122
        }
      },
      "source": [
        "from google.colab import drive\n",
        "drive.mount('/content/drive')"
      ],
      "execution_count": 0,
      "outputs": [
        {
          "output_type": "stream",
          "text": [
            "Go to this URL in a browser: https://accounts.google.com/o/oauth2/auth?client_id=947318989803-6bn6qk8qdgf4n4g3pfee6491hc0brc4i.apps.googleusercontent.com&redirect_uri=urn%3Aietf%3Awg%3Aoauth%3A2.0%3Aoob&scope=email%20https%3A%2F%2Fwww.googleapis.com%2Fauth%2Fdocs.test%20https%3A%2F%2Fwww.googleapis.com%2Fauth%2Fdrive%20https%3A%2F%2Fwww.googleapis.com%2Fauth%2Fdrive.photos.readonly%20https%3A%2F%2Fwww.googleapis.com%2Fauth%2Fpeopleapi.readonly&response_type=code\n",
            "\n",
            "Enter your authorization code:\n",
            "··········\n",
            "Mounted at /content/drive\n"
          ],
          "name": "stdout"
        }
      ]
    },
    {
      "cell_type": "markdown",
      "metadata": {
        "id": "ydpOzEDvCmtx",
        "colab_type": "text"
      },
      "source": [
        "#Understanding the Data\n",
        "Before we start cleaning data for a machine learning project, it is vital to understand what the data is, and what we want to achieve. Without that understanding, we have no basis from which to make decisions about what data is relevant as we clean and prepare our data.\n",
        "\n",
        "We’ll be working with some data from Lending Club, a marketplace for personal loans that matches borrowers who are seeking a loan with investors looking to lend money and make a return. Each borrower fills out a comprehensive application, providing their past financial history, the reason for the loan, and more. Lending Club evaluates each borrower’s credit score using past historical data and assigns an interest rate to the borrower.\n",
        "\n",
        "Approved loans are listed on the Lending Club website, where qualified investors can browse recently approved loans, the borrower’s credit score, the purpose for the loan, and other information from the application.\n",
        "\n",
        "Once an investor decides to fund a loan, the borrower then makes monthly payments back to Lending Club. Lending Club redistributes these payments to investors. This means that investors don’t have to wait until the full amount is paid off to start to see returns. If a loan is fully paid off on time, the investors make a return which corresponds to the interest rate the borrower had to pay in addition to the requested amount.\n",
        "\n",
        "Many loans aren’t completely paid off on time, however, and some borrowers default on the loan. That’s the problem we’ll be trying to address as we clean some data from Lending Club for machine learning. Let’s imagine we’ve been tasked with building a model to predict whether borrowers are likely to pay or default on their loans."
      ]
    },
    {
      "cell_type": "code",
      "metadata": {
        "id": "V-s3oW2kSwMu",
        "colab_type": "code",
        "colab": {}
      },
      "source": [
        "import pandas as pd\n",
        "import numpy as np\n",
        "import matplotlib.pyplot as plt\n",
        "import seaborn as sns"
      ],
      "execution_count": 0,
      "outputs": []
    },
    {
      "cell_type": "markdown",
      "metadata": {
        "id": "TvUYM7oBTgSd",
        "colab_type": "text"
      },
      "source": [
        "We’ve downloaded our data set and named it lending_club_loans.csv, but now we need to load it into a pandas DataFrame to explore it. Once it’s loaded, we’ll want to do some basic cleaning tasks to remove some information we don’t need that will make our data processing slower.\n",
        "\n",
        "Specifically, we’re going to:\n",
        "\n",
        " \n",
        "\n",
        "*   Remove the first line: It contains extraneous text instead of the column titles. This text prevents the data set from being parsed properly by the pandas library.\n",
        "\n",
        "*   Remove the **‘desc’** column: It contains a long text explanation for the loan that we won’t need.\n",
        "\n",
        "*  Remove the **‘url’** column: It contains a link to each on Lending Club which can only be accessed with an investor account.\n",
        "\n",
        "*   Removing all columns with more than 50% missing values: This will allow us to work faster and our data set is large enough that it will still be meaningful without them.\n",
        "\n",
        "\n",
        "\n",
        "\n"
      ]
    },
    {
      "cell_type": "code",
      "metadata": {
        "id": "hh42WqzWTWyL",
        "colab_type": "code",
        "colab": {}
      },
      "source": [
        "loans_2007 = pd.read_csv('/content/drive/My Drive/jaypeedevlin-lending-club-loan-data-2007-11/lending_club_loans.csv', skiprows=1, low_memory=False)\n",
        "\n",
        "half_count = len(loans_2007) / 2\n",
        "\n",
        "loans_2007 = loans_2007.dropna(thresh = half_count, axis = 1) # Drop any column with more than 50% missing values.\n",
        "\n",
        "loans_2007 = loans_2007.drop(['url', 'desc'], axis =1) # These two columns are not useful for our purposes."
      ],
      "execution_count": 0,
      "outputs": []
    },
    {
      "cell_type": "code",
      "metadata": {
        "id": "AwlDV-hGVx3r",
        "colab_type": "code",
        "outputId": "b77d05d6-2d18-4044-9748-1b15cf1c89db",
        "colab": {
          "base_uri": "https://localhost:8080/",
          "height": 360
        }
      },
      "source": [
        "loans_2007.head()"
      ],
      "execution_count": 0,
      "outputs": [
        {
          "output_type": "execute_result",
          "data": {
            "text/html": [
              "<div>\n",
              "<style scoped>\n",
              "    .dataframe tbody tr th:only-of-type {\n",
              "        vertical-align: middle;\n",
              "    }\n",
              "\n",
              "    .dataframe tbody tr th {\n",
              "        vertical-align: top;\n",
              "    }\n",
              "\n",
              "    .dataframe thead th {\n",
              "        text-align: right;\n",
              "    }\n",
              "</style>\n",
              "<table border=\"1\" class=\"dataframe\">\n",
              "  <thead>\n",
              "    <tr style=\"text-align: right;\">\n",
              "      <th></th>\n",
              "      <th>id</th>\n",
              "      <th>member_id</th>\n",
              "      <th>loan_amnt</th>\n",
              "      <th>funded_amnt</th>\n",
              "      <th>funded_amnt_inv</th>\n",
              "      <th>term</th>\n",
              "      <th>int_rate</th>\n",
              "      <th>installment</th>\n",
              "      <th>grade</th>\n",
              "      <th>sub_grade</th>\n",
              "      <th>emp_title</th>\n",
              "      <th>emp_length</th>\n",
              "      <th>home_ownership</th>\n",
              "      <th>annual_inc</th>\n",
              "      <th>verification_status</th>\n",
              "      <th>issue_d</th>\n",
              "      <th>loan_status</th>\n",
              "      <th>pymnt_plan</th>\n",
              "      <th>purpose</th>\n",
              "      <th>title</th>\n",
              "      <th>zip_code</th>\n",
              "      <th>addr_state</th>\n",
              "      <th>dti</th>\n",
              "      <th>delinq_2yrs</th>\n",
              "      <th>earliest_cr_line</th>\n",
              "      <th>fico_range_low</th>\n",
              "      <th>fico_range_high</th>\n",
              "      <th>inq_last_6mths</th>\n",
              "      <th>open_acc</th>\n",
              "      <th>pub_rec</th>\n",
              "      <th>revol_bal</th>\n",
              "      <th>revol_util</th>\n",
              "      <th>total_acc</th>\n",
              "      <th>initial_list_status</th>\n",
              "      <th>out_prncp</th>\n",
              "      <th>out_prncp_inv</th>\n",
              "      <th>total_pymnt</th>\n",
              "      <th>total_pymnt_inv</th>\n",
              "      <th>total_rec_prncp</th>\n",
              "      <th>total_rec_int</th>\n",
              "      <th>total_rec_late_fee</th>\n",
              "      <th>recoveries</th>\n",
              "      <th>collection_recovery_fee</th>\n",
              "      <th>last_pymnt_d</th>\n",
              "      <th>last_pymnt_amnt</th>\n",
              "      <th>last_credit_pull_d</th>\n",
              "      <th>last_fico_range_high</th>\n",
              "      <th>last_fico_range_low</th>\n",
              "      <th>collections_12_mths_ex_med</th>\n",
              "      <th>policy_code</th>\n",
              "      <th>application_type</th>\n",
              "      <th>acc_now_delinq</th>\n",
              "      <th>chargeoff_within_12_mths</th>\n",
              "      <th>delinq_amnt</th>\n",
              "      <th>pub_rec_bankruptcies</th>\n",
              "      <th>tax_liens</th>\n",
              "    </tr>\n",
              "  </thead>\n",
              "  <tbody>\n",
              "    <tr>\n",
              "      <th>0</th>\n",
              "      <td>1077501</td>\n",
              "      <td>1296599.0</td>\n",
              "      <td>5000.0</td>\n",
              "      <td>5000.0</td>\n",
              "      <td>4975.0</td>\n",
              "      <td>36 months</td>\n",
              "      <td>10.65%</td>\n",
              "      <td>162.87</td>\n",
              "      <td>B</td>\n",
              "      <td>B2</td>\n",
              "      <td>NaN</td>\n",
              "      <td>10+ years</td>\n",
              "      <td>RENT</td>\n",
              "      <td>24000.0</td>\n",
              "      <td>Verified</td>\n",
              "      <td>Dec-2011</td>\n",
              "      <td>Fully Paid</td>\n",
              "      <td>n</td>\n",
              "      <td>credit_card</td>\n",
              "      <td>Computer</td>\n",
              "      <td>860xx</td>\n",
              "      <td>AZ</td>\n",
              "      <td>27.65</td>\n",
              "      <td>0.0</td>\n",
              "      <td>Jan-1985</td>\n",
              "      <td>735.0</td>\n",
              "      <td>739.0</td>\n",
              "      <td>1.0</td>\n",
              "      <td>3.0</td>\n",
              "      <td>0.0</td>\n",
              "      <td>13648.0</td>\n",
              "      <td>83.7%</td>\n",
              "      <td>9.0</td>\n",
              "      <td>f</td>\n",
              "      <td>0.00</td>\n",
              "      <td>0.00</td>\n",
              "      <td>5863.155187</td>\n",
              "      <td>5833.84</td>\n",
              "      <td>5000.00</td>\n",
              "      <td>863.16</td>\n",
              "      <td>0.00</td>\n",
              "      <td>0.00</td>\n",
              "      <td>0.00</td>\n",
              "      <td>Jan-2015</td>\n",
              "      <td>171.62</td>\n",
              "      <td>Sep-2016</td>\n",
              "      <td>744.0</td>\n",
              "      <td>740.0</td>\n",
              "      <td>0.0</td>\n",
              "      <td>1.0</td>\n",
              "      <td>INDIVIDUAL</td>\n",
              "      <td>0.0</td>\n",
              "      <td>0.0</td>\n",
              "      <td>0.0</td>\n",
              "      <td>0.0</td>\n",
              "      <td>0.0</td>\n",
              "    </tr>\n",
              "    <tr>\n",
              "      <th>1</th>\n",
              "      <td>1077430</td>\n",
              "      <td>1314167.0</td>\n",
              "      <td>2500.0</td>\n",
              "      <td>2500.0</td>\n",
              "      <td>2500.0</td>\n",
              "      <td>60 months</td>\n",
              "      <td>15.27%</td>\n",
              "      <td>59.83</td>\n",
              "      <td>C</td>\n",
              "      <td>C4</td>\n",
              "      <td>Ryder</td>\n",
              "      <td>&lt; 1 year</td>\n",
              "      <td>RENT</td>\n",
              "      <td>30000.0</td>\n",
              "      <td>Source Verified</td>\n",
              "      <td>Dec-2011</td>\n",
              "      <td>Charged Off</td>\n",
              "      <td>n</td>\n",
              "      <td>car</td>\n",
              "      <td>bike</td>\n",
              "      <td>309xx</td>\n",
              "      <td>GA</td>\n",
              "      <td>1.00</td>\n",
              "      <td>0.0</td>\n",
              "      <td>Apr-1999</td>\n",
              "      <td>740.0</td>\n",
              "      <td>744.0</td>\n",
              "      <td>5.0</td>\n",
              "      <td>3.0</td>\n",
              "      <td>0.0</td>\n",
              "      <td>1687.0</td>\n",
              "      <td>9.4%</td>\n",
              "      <td>4.0</td>\n",
              "      <td>f</td>\n",
              "      <td>0.00</td>\n",
              "      <td>0.00</td>\n",
              "      <td>1008.710000</td>\n",
              "      <td>1008.71</td>\n",
              "      <td>456.46</td>\n",
              "      <td>435.17</td>\n",
              "      <td>0.00</td>\n",
              "      <td>117.08</td>\n",
              "      <td>1.11</td>\n",
              "      <td>Apr-2013</td>\n",
              "      <td>119.66</td>\n",
              "      <td>Sep-2016</td>\n",
              "      <td>499.0</td>\n",
              "      <td>0.0</td>\n",
              "      <td>0.0</td>\n",
              "      <td>1.0</td>\n",
              "      <td>INDIVIDUAL</td>\n",
              "      <td>0.0</td>\n",
              "      <td>0.0</td>\n",
              "      <td>0.0</td>\n",
              "      <td>0.0</td>\n",
              "      <td>0.0</td>\n",
              "    </tr>\n",
              "    <tr>\n",
              "      <th>2</th>\n",
              "      <td>1077175</td>\n",
              "      <td>1313524.0</td>\n",
              "      <td>2400.0</td>\n",
              "      <td>2400.0</td>\n",
              "      <td>2400.0</td>\n",
              "      <td>36 months</td>\n",
              "      <td>15.96%</td>\n",
              "      <td>84.33</td>\n",
              "      <td>C</td>\n",
              "      <td>C5</td>\n",
              "      <td>NaN</td>\n",
              "      <td>10+ years</td>\n",
              "      <td>RENT</td>\n",
              "      <td>12252.0</td>\n",
              "      <td>Not Verified</td>\n",
              "      <td>Dec-2011</td>\n",
              "      <td>Fully Paid</td>\n",
              "      <td>n</td>\n",
              "      <td>small_business</td>\n",
              "      <td>real estate business</td>\n",
              "      <td>606xx</td>\n",
              "      <td>IL</td>\n",
              "      <td>8.72</td>\n",
              "      <td>0.0</td>\n",
              "      <td>Nov-2001</td>\n",
              "      <td>735.0</td>\n",
              "      <td>739.0</td>\n",
              "      <td>2.0</td>\n",
              "      <td>2.0</td>\n",
              "      <td>0.0</td>\n",
              "      <td>2956.0</td>\n",
              "      <td>98.5%</td>\n",
              "      <td>10.0</td>\n",
              "      <td>f</td>\n",
              "      <td>0.00</td>\n",
              "      <td>0.00</td>\n",
              "      <td>3005.666844</td>\n",
              "      <td>3005.67</td>\n",
              "      <td>2400.00</td>\n",
              "      <td>605.67</td>\n",
              "      <td>0.00</td>\n",
              "      <td>0.00</td>\n",
              "      <td>0.00</td>\n",
              "      <td>Jun-2014</td>\n",
              "      <td>649.91</td>\n",
              "      <td>Sep-2016</td>\n",
              "      <td>719.0</td>\n",
              "      <td>715.0</td>\n",
              "      <td>0.0</td>\n",
              "      <td>1.0</td>\n",
              "      <td>INDIVIDUAL</td>\n",
              "      <td>0.0</td>\n",
              "      <td>0.0</td>\n",
              "      <td>0.0</td>\n",
              "      <td>0.0</td>\n",
              "      <td>0.0</td>\n",
              "    </tr>\n",
              "    <tr>\n",
              "      <th>3</th>\n",
              "      <td>1076863</td>\n",
              "      <td>1277178.0</td>\n",
              "      <td>10000.0</td>\n",
              "      <td>10000.0</td>\n",
              "      <td>10000.0</td>\n",
              "      <td>36 months</td>\n",
              "      <td>13.49%</td>\n",
              "      <td>339.31</td>\n",
              "      <td>C</td>\n",
              "      <td>C1</td>\n",
              "      <td>AIR RESOURCES BOARD</td>\n",
              "      <td>10+ years</td>\n",
              "      <td>RENT</td>\n",
              "      <td>49200.0</td>\n",
              "      <td>Source Verified</td>\n",
              "      <td>Dec-2011</td>\n",
              "      <td>Fully Paid</td>\n",
              "      <td>n</td>\n",
              "      <td>other</td>\n",
              "      <td>personel</td>\n",
              "      <td>917xx</td>\n",
              "      <td>CA</td>\n",
              "      <td>20.00</td>\n",
              "      <td>0.0</td>\n",
              "      <td>Feb-1996</td>\n",
              "      <td>690.0</td>\n",
              "      <td>694.0</td>\n",
              "      <td>1.0</td>\n",
              "      <td>10.0</td>\n",
              "      <td>0.0</td>\n",
              "      <td>5598.0</td>\n",
              "      <td>21%</td>\n",
              "      <td>37.0</td>\n",
              "      <td>f</td>\n",
              "      <td>0.00</td>\n",
              "      <td>0.00</td>\n",
              "      <td>12231.890000</td>\n",
              "      <td>12231.89</td>\n",
              "      <td>10000.00</td>\n",
              "      <td>2214.92</td>\n",
              "      <td>16.97</td>\n",
              "      <td>0.00</td>\n",
              "      <td>0.00</td>\n",
              "      <td>Jan-2015</td>\n",
              "      <td>357.48</td>\n",
              "      <td>Apr-2016</td>\n",
              "      <td>604.0</td>\n",
              "      <td>600.0</td>\n",
              "      <td>0.0</td>\n",
              "      <td>1.0</td>\n",
              "      <td>INDIVIDUAL</td>\n",
              "      <td>0.0</td>\n",
              "      <td>0.0</td>\n",
              "      <td>0.0</td>\n",
              "      <td>0.0</td>\n",
              "      <td>0.0</td>\n",
              "    </tr>\n",
              "    <tr>\n",
              "      <th>4</th>\n",
              "      <td>1075358</td>\n",
              "      <td>1311748.0</td>\n",
              "      <td>3000.0</td>\n",
              "      <td>3000.0</td>\n",
              "      <td>3000.0</td>\n",
              "      <td>60 months</td>\n",
              "      <td>12.69%</td>\n",
              "      <td>67.79</td>\n",
              "      <td>B</td>\n",
              "      <td>B5</td>\n",
              "      <td>University Medical Group</td>\n",
              "      <td>1 year</td>\n",
              "      <td>RENT</td>\n",
              "      <td>80000.0</td>\n",
              "      <td>Source Verified</td>\n",
              "      <td>Dec-2011</td>\n",
              "      <td>Current</td>\n",
              "      <td>n</td>\n",
              "      <td>other</td>\n",
              "      <td>Personal</td>\n",
              "      <td>972xx</td>\n",
              "      <td>OR</td>\n",
              "      <td>17.94</td>\n",
              "      <td>0.0</td>\n",
              "      <td>Jan-1996</td>\n",
              "      <td>695.0</td>\n",
              "      <td>699.0</td>\n",
              "      <td>0.0</td>\n",
              "      <td>15.0</td>\n",
              "      <td>0.0</td>\n",
              "      <td>27783.0</td>\n",
              "      <td>53.9%</td>\n",
              "      <td>38.0</td>\n",
              "      <td>f</td>\n",
              "      <td>270.78</td>\n",
              "      <td>270.78</td>\n",
              "      <td>3784.490000</td>\n",
              "      <td>3784.49</td>\n",
              "      <td>2729.22</td>\n",
              "      <td>1055.27</td>\n",
              "      <td>0.00</td>\n",
              "      <td>0.00</td>\n",
              "      <td>0.00</td>\n",
              "      <td>Sep-2016</td>\n",
              "      <td>67.79</td>\n",
              "      <td>Sep-2016</td>\n",
              "      <td>694.0</td>\n",
              "      <td>690.0</td>\n",
              "      <td>0.0</td>\n",
              "      <td>1.0</td>\n",
              "      <td>INDIVIDUAL</td>\n",
              "      <td>0.0</td>\n",
              "      <td>0.0</td>\n",
              "      <td>0.0</td>\n",
              "      <td>0.0</td>\n",
              "      <td>0.0</td>\n",
              "    </tr>\n",
              "  </tbody>\n",
              "</table>\n",
              "</div>"
            ],
            "text/plain": [
              "        id  member_id  loan_amnt  ...  delinq_amnt  pub_rec_bankruptcies tax_liens\n",
              "0  1077501  1296599.0     5000.0  ...          0.0                   0.0       0.0\n",
              "1  1077430  1314167.0     2500.0  ...          0.0                   0.0       0.0\n",
              "2  1077175  1313524.0     2400.0  ...          0.0                   0.0       0.0\n",
              "3  1076863  1277178.0    10000.0  ...          0.0                   0.0       0.0\n",
              "4  1075358  1311748.0     3000.0  ...          0.0                   0.0       0.0\n",
              "\n",
              "[5 rows x 56 columns]"
            ]
          },
          "metadata": {
            "tags": []
          },
          "execution_count": 4
        }
      ]
    },
    {
      "cell_type": "code",
      "metadata": {
        "id": "FysEGsEWV0vf",
        "colab_type": "code",
        "outputId": "3f5a9067-c5b2-4bc5-8a37-9597f1311a06",
        "colab": {
          "base_uri": "https://localhost:8080/",
          "height": 34
        }
      },
      "source": [
        "loans_2007.shape"
      ],
      "execution_count": 0,
      "outputs": [
        {
          "output_type": "execute_result",
          "data": {
            "text/plain": [
              "(42538, 56)"
            ]
          },
          "metadata": {
            "tags": []
          },
          "execution_count": 5
        }
      ]
    },
    {
      "cell_type": "markdown",
      "metadata": {
        "id": "fZ8dNhjHWX6B",
        "colab_type": "text"
      },
      "source": [
        "Now that we’ve got our data set up, we should spend some time exploring it and understanding what feature each column represents. This is important, because having a poor understanding of the features could cause us to make mistakes in the data analysis and the modeling process.\n",
        "\n"
      ]
    },
    {
      "cell_type": "code",
      "metadata": {
        "id": "fnaI7DhBWBO-",
        "colab_type": "code",
        "outputId": "6e7d8c5f-5514-4e32-b8c2-24a5d6ef85fe",
        "colab": {
          "base_uri": "https://localhost:8080/",
          "height": 34
        }
      },
      "source": [
        "data_dictionary = pd.read_csv('/content/drive/My Drive/jaypeedevlin-lending-club-loan-data-2007-11/LCDataDictionary.csv') \n",
        "\n",
        "data_dictionary.shape"
      ],
      "execution_count": 0,
      "outputs": [
        {
          "output_type": "execute_result",
          "data": {
            "text/plain": [
              "(117, 2)"
            ]
          },
          "metadata": {
            "tags": []
          },
          "execution_count": 6
        }
      ]
    },
    {
      "cell_type": "code",
      "metadata": {
        "id": "trbWcc3GW6Vf",
        "colab_type": "code",
        "outputId": "b3fd2268-4097-4979-e5f5-c1e3711c088c",
        "colab": {
          "base_uri": "https://localhost:8080/",
          "height": 34
        }
      },
      "source": [
        "data_dictionary.columns.tolist()"
      ],
      "execution_count": 0,
      "outputs": [
        {
          "output_type": "execute_result",
          "data": {
            "text/plain": [
              "['LoanStatNew', 'Description']"
            ]
          },
          "metadata": {
            "tags": []
          },
          "execution_count": 7
        }
      ]
    },
    {
      "cell_type": "code",
      "metadata": {
        "id": "DJE9UELkW9_h",
        "colab_type": "code",
        "colab": {}
      },
      "source": [
        "data_dictionary = data_dictionary.rename(columns={'LoanStatNew' : 'name', 'Description' : 'description'})"
      ],
      "execution_count": 0,
      "outputs": []
    },
    {
      "cell_type": "code",
      "metadata": {
        "id": "TrLbOvBC_98_",
        "colab_type": "code",
        "outputId": "28c14d92-4926-4439-fa85-4ba62bfc18da",
        "colab": {
          "base_uri": "https://localhost:8080/",
          "height": 204
        }
      },
      "source": [
        "data_dictionary.head()"
      ],
      "execution_count": 0,
      "outputs": [
        {
          "output_type": "execute_result",
          "data": {
            "text/html": [
              "<div>\n",
              "<style scoped>\n",
              "    .dataframe tbody tr th:only-of-type {\n",
              "        vertical-align: middle;\n",
              "    }\n",
              "\n",
              "    .dataframe tbody tr th {\n",
              "        vertical-align: top;\n",
              "    }\n",
              "\n",
              "    .dataframe thead th {\n",
              "        text-align: right;\n",
              "    }\n",
              "</style>\n",
              "<table border=\"1\" class=\"dataframe\">\n",
              "  <thead>\n",
              "    <tr style=\"text-align: right;\">\n",
              "      <th></th>\n",
              "      <th>name</th>\n",
              "      <th>description</th>\n",
              "    </tr>\n",
              "  </thead>\n",
              "  <tbody>\n",
              "    <tr>\n",
              "      <th>0</th>\n",
              "      <td>acc_now_delinq</td>\n",
              "      <td>The number of accounts on which the borrower i...</td>\n",
              "    </tr>\n",
              "    <tr>\n",
              "      <th>1</th>\n",
              "      <td>acc_open_past_24mths</td>\n",
              "      <td>Number of trades opened in past 24 months.</td>\n",
              "    </tr>\n",
              "    <tr>\n",
              "      <th>2</th>\n",
              "      <td>addr_state</td>\n",
              "      <td>The state provided by the borrower in the loan...</td>\n",
              "    </tr>\n",
              "    <tr>\n",
              "      <th>3</th>\n",
              "      <td>all_util</td>\n",
              "      <td>Balance to credit limit on all trades</td>\n",
              "    </tr>\n",
              "    <tr>\n",
              "      <th>4</th>\n",
              "      <td>annual_inc</td>\n",
              "      <td>The self-reported annual income provided by th...</td>\n",
              "    </tr>\n",
              "  </tbody>\n",
              "</table>\n",
              "</div>"
            ],
            "text/plain": [
              "                   name                                        description\n",
              "0        acc_now_delinq  The number of accounts on which the borrower i...\n",
              "1  acc_open_past_24mths         Number of trades opened in past 24 months.\n",
              "2            addr_state  The state provided by the borrower in the loan...\n",
              "3              all_util              Balance to credit limit on all trades\n",
              "4            annual_inc  The self-reported annual income provided by th..."
            ]
          },
          "metadata": {
            "tags": []
          },
          "execution_count": 9
        }
      ]
    },
    {
      "cell_type": "markdown",
      "metadata": {
        "id": "vNkQy6GPAjaN",
        "colab_type": "text"
      },
      "source": [
        "Now that we’ve got the **data_dictionary** loaded, let’s join the first row of **loans_2007** to the data_dictionary DataFrame to give us a preview DataFrame with the following columns:\n",
        "\n",
        "\n",
        "*   **name** — Contains the column names of loans_2007.\n",
        "*   **dtypes** — Contains the data types of the loans_2007 columns.\n",
        "*   **first value** — Contains the values of loans_2007 first row.\n",
        "*   **description** — Explains what each column in loans_2007 represents.\n",
        "\n"
      ]
    },
    {
      "cell_type": "code",
      "metadata": {
        "id": "SxMx4hOsAEC5",
        "colab_type": "code",
        "outputId": "6f247680-a92e-4317-92cc-5a93f3fe14e9",
        "colab": {
          "base_uri": "https://localhost:8080/",
          "height": 204
        }
      },
      "source": [
        "loans_2007_dtypes = pd.DataFrame(loans_2007.dtypes, columns=['dtypes'])\n",
        "loans_2007_dtypes = loans_2007_dtypes.reset_index()\n",
        "loans_2007_dtypes['name'] = loans_2007_dtypes['index']\n",
        "loans_2007_dtypes = loans_2007_dtypes[['name','dtypes']]\n",
        "loans_2007_dtypes['first value'] = loans_2007.loc[0].values\n",
        "\n",
        "preview = loans_2007_dtypes.merge(data_dictionary, on='name',how='left')\n",
        "preview.head()"
      ],
      "execution_count": 0,
      "outputs": [
        {
          "output_type": "execute_result",
          "data": {
            "text/html": [
              "<div>\n",
              "<style scoped>\n",
              "    .dataframe tbody tr th:only-of-type {\n",
              "        vertical-align: middle;\n",
              "    }\n",
              "\n",
              "    .dataframe tbody tr th {\n",
              "        vertical-align: top;\n",
              "    }\n",
              "\n",
              "    .dataframe thead th {\n",
              "        text-align: right;\n",
              "    }\n",
              "</style>\n",
              "<table border=\"1\" class=\"dataframe\">\n",
              "  <thead>\n",
              "    <tr style=\"text-align: right;\">\n",
              "      <th></th>\n",
              "      <th>name</th>\n",
              "      <th>dtypes</th>\n",
              "      <th>first value</th>\n",
              "      <th>description</th>\n",
              "    </tr>\n",
              "  </thead>\n",
              "  <tbody>\n",
              "    <tr>\n",
              "      <th>0</th>\n",
              "      <td>id</td>\n",
              "      <td>object</td>\n",
              "      <td>1077501</td>\n",
              "      <td>A unique LC assigned ID for the loan listing.</td>\n",
              "    </tr>\n",
              "    <tr>\n",
              "      <th>1</th>\n",
              "      <td>member_id</td>\n",
              "      <td>float64</td>\n",
              "      <td>1.2966e+06</td>\n",
              "      <td>A unique LC assigned Id for the borrower member.</td>\n",
              "    </tr>\n",
              "    <tr>\n",
              "      <th>2</th>\n",
              "      <td>loan_amnt</td>\n",
              "      <td>float64</td>\n",
              "      <td>5000</td>\n",
              "      <td>The listed amount of the loan applied for by t...</td>\n",
              "    </tr>\n",
              "    <tr>\n",
              "      <th>3</th>\n",
              "      <td>funded_amnt</td>\n",
              "      <td>float64</td>\n",
              "      <td>5000</td>\n",
              "      <td>The total amount committed to that loan at tha...</td>\n",
              "    </tr>\n",
              "    <tr>\n",
              "      <th>4</th>\n",
              "      <td>funded_amnt_inv</td>\n",
              "      <td>float64</td>\n",
              "      <td>4975</td>\n",
              "      <td>The total amount committed by investors for th...</td>\n",
              "    </tr>\n",
              "  </tbody>\n",
              "</table>\n",
              "</div>"
            ],
            "text/plain": [
              "              name  ...                                        description\n",
              "0               id  ...      A unique LC assigned ID for the loan listing.\n",
              "1        member_id  ...   A unique LC assigned Id for the borrower member.\n",
              "2        loan_amnt  ...  The listed amount of the loan applied for by t...\n",
              "3      funded_amnt  ...  The total amount committed to that loan at tha...\n",
              "4  funded_amnt_inv  ...  The total amount committed by investors for th...\n",
              "\n",
              "[5 rows x 4 columns]"
            ]
          },
          "metadata": {
            "tags": []
          },
          "execution_count": 10
        }
      ]
    },
    {
      "cell_type": "markdown",
      "metadata": {
        "id": "QOGhY0K-DmPv",
        "colab_type": "text"
      },
      "source": [
        "When we printed the shape of loans_2007 earlier, we noticed that it had 56 columns, so we know that this preview DataFrame has 56 rows (one explaining each column in loans_2007).\n",
        "\n",
        "It can be cumbersome to try to explore all the rows of a preview at once, so instead we’ll break it up into three parts and look at smaller selection of features each time. As we explore the features to better understand each of them, we’ll want to pay attention to any column that:\n",
        "\n",
        "\n",
        "*   leaks information from the future (after the loan has already been funded),\n",
        "\n",
        "*   doesn’t affect the borrower’s ability to pay back the loan (e.g. a randomly generated ID value by Lending Club),\n",
        "*   is formatted poorly,\n",
        "\n",
        "\n",
        "*   requires more data or a lot of pre-processing to turn into useful a feature, or\n",
        "\n",
        "\n",
        "*   contains redundant information.\n",
        "\n",
        "\n",
        "\n",
        "\n"
      ]
    },
    {
      "cell_type": "markdown",
      "metadata": {
        "id": "ejv7WJWsEGlk",
        "colab_type": "text"
      },
      "source": [
        "## First Group of Columns"
      ]
    },
    {
      "cell_type": "code",
      "metadata": {
        "id": "ltGi6xiKCF0r",
        "colab_type": "code",
        "outputId": "eb6fea36-b046-4cee-990b-4b8f8798af8f",
        "colab": {
          "base_uri": "https://localhost:8080/",
          "height": 638
        }
      },
      "source": [
        "preview[:19]"
      ],
      "execution_count": 0,
      "outputs": [
        {
          "output_type": "execute_result",
          "data": {
            "text/html": [
              "<div>\n",
              "<style scoped>\n",
              "    .dataframe tbody tr th:only-of-type {\n",
              "        vertical-align: middle;\n",
              "    }\n",
              "\n",
              "    .dataframe tbody tr th {\n",
              "        vertical-align: top;\n",
              "    }\n",
              "\n",
              "    .dataframe thead th {\n",
              "        text-align: right;\n",
              "    }\n",
              "</style>\n",
              "<table border=\"1\" class=\"dataframe\">\n",
              "  <thead>\n",
              "    <tr style=\"text-align: right;\">\n",
              "      <th></th>\n",
              "      <th>name</th>\n",
              "      <th>dtypes</th>\n",
              "      <th>first value</th>\n",
              "      <th>description</th>\n",
              "    </tr>\n",
              "  </thead>\n",
              "  <tbody>\n",
              "    <tr>\n",
              "      <th>0</th>\n",
              "      <td>id</td>\n",
              "      <td>object</td>\n",
              "      <td>1077501</td>\n",
              "      <td>A unique LC assigned ID for the loan listing.</td>\n",
              "    </tr>\n",
              "    <tr>\n",
              "      <th>1</th>\n",
              "      <td>member_id</td>\n",
              "      <td>float64</td>\n",
              "      <td>1.2966e+06</td>\n",
              "      <td>A unique LC assigned Id for the borrower member.</td>\n",
              "    </tr>\n",
              "    <tr>\n",
              "      <th>2</th>\n",
              "      <td>loan_amnt</td>\n",
              "      <td>float64</td>\n",
              "      <td>5000</td>\n",
              "      <td>The listed amount of the loan applied for by t...</td>\n",
              "    </tr>\n",
              "    <tr>\n",
              "      <th>3</th>\n",
              "      <td>funded_amnt</td>\n",
              "      <td>float64</td>\n",
              "      <td>5000</td>\n",
              "      <td>The total amount committed to that loan at tha...</td>\n",
              "    </tr>\n",
              "    <tr>\n",
              "      <th>4</th>\n",
              "      <td>funded_amnt_inv</td>\n",
              "      <td>float64</td>\n",
              "      <td>4975</td>\n",
              "      <td>The total amount committed by investors for th...</td>\n",
              "    </tr>\n",
              "    <tr>\n",
              "      <th>5</th>\n",
              "      <td>term</td>\n",
              "      <td>object</td>\n",
              "      <td>36 months</td>\n",
              "      <td>The number of payments on the loan. Values are...</td>\n",
              "    </tr>\n",
              "    <tr>\n",
              "      <th>6</th>\n",
              "      <td>int_rate</td>\n",
              "      <td>object</td>\n",
              "      <td>10.65%</td>\n",
              "      <td>Interest Rate on the loan</td>\n",
              "    </tr>\n",
              "    <tr>\n",
              "      <th>7</th>\n",
              "      <td>installment</td>\n",
              "      <td>float64</td>\n",
              "      <td>162.87</td>\n",
              "      <td>The monthly payment owed by the borrower if th...</td>\n",
              "    </tr>\n",
              "    <tr>\n",
              "      <th>8</th>\n",
              "      <td>grade</td>\n",
              "      <td>object</td>\n",
              "      <td>B</td>\n",
              "      <td>LC assigned loan grade</td>\n",
              "    </tr>\n",
              "    <tr>\n",
              "      <th>9</th>\n",
              "      <td>sub_grade</td>\n",
              "      <td>object</td>\n",
              "      <td>B2</td>\n",
              "      <td>LC assigned loan subgrade</td>\n",
              "    </tr>\n",
              "    <tr>\n",
              "      <th>10</th>\n",
              "      <td>emp_title</td>\n",
              "      <td>object</td>\n",
              "      <td>NaN</td>\n",
              "      <td>The job title supplied by the Borrower when ap...</td>\n",
              "    </tr>\n",
              "    <tr>\n",
              "      <th>11</th>\n",
              "      <td>emp_length</td>\n",
              "      <td>object</td>\n",
              "      <td>10+ years</td>\n",
              "      <td>Employment length in years. Possible values ar...</td>\n",
              "    </tr>\n",
              "    <tr>\n",
              "      <th>12</th>\n",
              "      <td>home_ownership</td>\n",
              "      <td>object</td>\n",
              "      <td>RENT</td>\n",
              "      <td>The home ownership status provided by the borr...</td>\n",
              "    </tr>\n",
              "    <tr>\n",
              "      <th>13</th>\n",
              "      <td>annual_inc</td>\n",
              "      <td>float64</td>\n",
              "      <td>24000</td>\n",
              "      <td>The self-reported annual income provided by th...</td>\n",
              "    </tr>\n",
              "    <tr>\n",
              "      <th>14</th>\n",
              "      <td>verification_status</td>\n",
              "      <td>object</td>\n",
              "      <td>Verified</td>\n",
              "      <td>Indicates if income was verified by LC, not ve...</td>\n",
              "    </tr>\n",
              "    <tr>\n",
              "      <th>15</th>\n",
              "      <td>issue_d</td>\n",
              "      <td>object</td>\n",
              "      <td>Dec-2011</td>\n",
              "      <td>The month which the loan was funded</td>\n",
              "    </tr>\n",
              "    <tr>\n",
              "      <th>16</th>\n",
              "      <td>loan_status</td>\n",
              "      <td>object</td>\n",
              "      <td>Fully Paid</td>\n",
              "      <td>Current status of the loan</td>\n",
              "    </tr>\n",
              "    <tr>\n",
              "      <th>17</th>\n",
              "      <td>pymnt_plan</td>\n",
              "      <td>object</td>\n",
              "      <td>n</td>\n",
              "      <td>Indicates if a payment plan has been put in pl...</td>\n",
              "    </tr>\n",
              "    <tr>\n",
              "      <th>18</th>\n",
              "      <td>purpose</td>\n",
              "      <td>object</td>\n",
              "      <td>credit_card</td>\n",
              "      <td>A category provided by the borrower for the lo...</td>\n",
              "    </tr>\n",
              "  </tbody>\n",
              "</table>\n",
              "</div>"
            ],
            "text/plain": [
              "                   name  ...                                        description\n",
              "0                    id  ...      A unique LC assigned ID for the loan listing.\n",
              "1             member_id  ...   A unique LC assigned Id for the borrower member.\n",
              "2             loan_amnt  ...  The listed amount of the loan applied for by t...\n",
              "3           funded_amnt  ...  The total amount committed to that loan at tha...\n",
              "4       funded_amnt_inv  ...  The total amount committed by investors for th...\n",
              "5                  term  ...  The number of payments on the loan. Values are...\n",
              "6              int_rate  ...                          Interest Rate on the loan\n",
              "7           installment  ...  The monthly payment owed by the borrower if th...\n",
              "8                 grade  ...                             LC assigned loan grade\n",
              "9             sub_grade  ...                          LC assigned loan subgrade\n",
              "10            emp_title  ...  The job title supplied by the Borrower when ap...\n",
              "11           emp_length  ...  Employment length in years. Possible values ar...\n",
              "12       home_ownership  ...  The home ownership status provided by the borr...\n",
              "13           annual_inc  ...  The self-reported annual income provided by th...\n",
              "14  verification_status  ...  Indicates if income was verified by LC, not ve...\n",
              "15              issue_d  ...                The month which the loan was funded\n",
              "16          loan_status  ...                         Current status of the loan\n",
              "17           pymnt_plan  ...  Indicates if a payment plan has been put in pl...\n",
              "18              purpose  ...  A category provided by the borrower for the lo...\n",
              "\n",
              "[19 rows x 4 columns]"
            ]
          },
          "metadata": {
            "tags": []
          },
          "execution_count": 11
        }
      ]
    },
    {
      "cell_type": "markdown",
      "metadata": {
        "id": "lpXvrcdvE5El",
        "colab_type": "text"
      },
      "source": [
        "After analyzing the columns and considering the model we’re trying to build, we can conclude that the following features can be removed:\n",
        "\n",
        "\n",
        "*   **id** — randomly generated field by LendingClub for unique identification purposes only.\n",
        "\n",
        "*   **member_id** — also randomly generated field by LendingClub for identification purposes only.\n",
        "\n",
        "*   **funded_amnt** — leaks information from the future (after the loan is already started to be funded).\n",
        "\n",
        "*   **funded_amnt_inv** — also leaks data from the future.\n",
        "\n",
        "*   **sub_grade** — contains redundant information that is already in the grade column (more below).\n",
        "\n",
        "*   **int_rate** — also included within the grade column.\n",
        "\n",
        "*  **emp_title** — requires other data and a lot of processing to become potentially useful.\n",
        "\n",
        "*   **issued_d** — leaks data from the future.\n",
        "\n",
        "\n",
        "What may be useful for our model is to focus on clusters of borrowers instead of individuals. And, that’s exactly what grading does — it segments borrowers based on their credit score and other behaviors, which is why we will keep the **grade** column and drop interest **int_rate** and **sub_grade**. Let’s drop these columns from the DataFrame before moving onto to the next group of columns.\n"
      ]
    },
    {
      "cell_type": "code",
      "metadata": {
        "id": "caFc0tmpESga",
        "colab_type": "code",
        "colab": {}
      },
      "source": [
        "drop_list = ['id','member_id','funded_amnt','funded_amnt_inv',\n",
        "'int_rate','sub_grade','emp_title','issue_d']\n",
        "\n",
        "loans_2007 = loans_2007.drop(drop_list, axis=1)"
      ],
      "execution_count": 0,
      "outputs": []
    },
    {
      "cell_type": "markdown",
      "metadata": {
        "id": "ALIETL-TGY1M",
        "colab_type": "text"
      },
      "source": [
        "##Second Group of Columns"
      ]
    },
    {
      "cell_type": "code",
      "metadata": {
        "id": "Cfk4czVpGVeq",
        "colab_type": "code",
        "outputId": "a6ad95b6-de99-436e-e29c-d208debd89cb",
        "colab": {
          "base_uri": "https://localhost:8080/",
          "height": 638
        }
      },
      "source": [
        "preview[19:38]"
      ],
      "execution_count": 0,
      "outputs": [
        {
          "output_type": "execute_result",
          "data": {
            "text/html": [
              "<div>\n",
              "<style scoped>\n",
              "    .dataframe tbody tr th:only-of-type {\n",
              "        vertical-align: middle;\n",
              "    }\n",
              "\n",
              "    .dataframe tbody tr th {\n",
              "        vertical-align: top;\n",
              "    }\n",
              "\n",
              "    .dataframe thead th {\n",
              "        text-align: right;\n",
              "    }\n",
              "</style>\n",
              "<table border=\"1\" class=\"dataframe\">\n",
              "  <thead>\n",
              "    <tr style=\"text-align: right;\">\n",
              "      <th></th>\n",
              "      <th>name</th>\n",
              "      <th>dtypes</th>\n",
              "      <th>first value</th>\n",
              "      <th>description</th>\n",
              "    </tr>\n",
              "  </thead>\n",
              "  <tbody>\n",
              "    <tr>\n",
              "      <th>19</th>\n",
              "      <td>title</td>\n",
              "      <td>object</td>\n",
              "      <td>Computer</td>\n",
              "      <td>The loan title provided by the borrower</td>\n",
              "    </tr>\n",
              "    <tr>\n",
              "      <th>20</th>\n",
              "      <td>zip_code</td>\n",
              "      <td>object</td>\n",
              "      <td>860xx</td>\n",
              "      <td>The first 3 numbers of the zip code provided b...</td>\n",
              "    </tr>\n",
              "    <tr>\n",
              "      <th>21</th>\n",
              "      <td>addr_state</td>\n",
              "      <td>object</td>\n",
              "      <td>AZ</td>\n",
              "      <td>The state provided by the borrower in the loan...</td>\n",
              "    </tr>\n",
              "    <tr>\n",
              "      <th>22</th>\n",
              "      <td>dti</td>\n",
              "      <td>float64</td>\n",
              "      <td>27.65</td>\n",
              "      <td>A ratio calculated using the borrower’s total ...</td>\n",
              "    </tr>\n",
              "    <tr>\n",
              "      <th>23</th>\n",
              "      <td>delinq_2yrs</td>\n",
              "      <td>float64</td>\n",
              "      <td>0</td>\n",
              "      <td>The number of 30+ days past-due incidences of ...</td>\n",
              "    </tr>\n",
              "    <tr>\n",
              "      <th>24</th>\n",
              "      <td>earliest_cr_line</td>\n",
              "      <td>object</td>\n",
              "      <td>Jan-1985</td>\n",
              "      <td>The month the borrower's earliest reported cre...</td>\n",
              "    </tr>\n",
              "    <tr>\n",
              "      <th>25</th>\n",
              "      <td>fico_range_low</td>\n",
              "      <td>float64</td>\n",
              "      <td>735</td>\n",
              "      <td>The lower boundary range the borrower’s FICO a...</td>\n",
              "    </tr>\n",
              "    <tr>\n",
              "      <th>26</th>\n",
              "      <td>fico_range_high</td>\n",
              "      <td>float64</td>\n",
              "      <td>739</td>\n",
              "      <td>The upper boundary range the borrower’s FICO a...</td>\n",
              "    </tr>\n",
              "    <tr>\n",
              "      <th>27</th>\n",
              "      <td>inq_last_6mths</td>\n",
              "      <td>float64</td>\n",
              "      <td>1</td>\n",
              "      <td>The number of inquiries in past 6 months (excl...</td>\n",
              "    </tr>\n",
              "    <tr>\n",
              "      <th>28</th>\n",
              "      <td>open_acc</td>\n",
              "      <td>float64</td>\n",
              "      <td>3</td>\n",
              "      <td>The number of open credit lines in the borrowe...</td>\n",
              "    </tr>\n",
              "    <tr>\n",
              "      <th>29</th>\n",
              "      <td>pub_rec</td>\n",
              "      <td>float64</td>\n",
              "      <td>0</td>\n",
              "      <td>Number of derogatory public records</td>\n",
              "    </tr>\n",
              "    <tr>\n",
              "      <th>30</th>\n",
              "      <td>revol_bal</td>\n",
              "      <td>float64</td>\n",
              "      <td>13648</td>\n",
              "      <td>Total credit revolving balance</td>\n",
              "    </tr>\n",
              "    <tr>\n",
              "      <th>31</th>\n",
              "      <td>revol_util</td>\n",
              "      <td>object</td>\n",
              "      <td>83.7%</td>\n",
              "      <td>Revolving line utilization rate, or the amount...</td>\n",
              "    </tr>\n",
              "    <tr>\n",
              "      <th>32</th>\n",
              "      <td>total_acc</td>\n",
              "      <td>float64</td>\n",
              "      <td>9</td>\n",
              "      <td>The total number of credit lines currently in ...</td>\n",
              "    </tr>\n",
              "    <tr>\n",
              "      <th>33</th>\n",
              "      <td>initial_list_status</td>\n",
              "      <td>object</td>\n",
              "      <td>f</td>\n",
              "      <td>The initial listing status of the loan. Possib...</td>\n",
              "    </tr>\n",
              "    <tr>\n",
              "      <th>34</th>\n",
              "      <td>out_prncp</td>\n",
              "      <td>float64</td>\n",
              "      <td>0</td>\n",
              "      <td>Remaining outstanding principal for total amou...</td>\n",
              "    </tr>\n",
              "    <tr>\n",
              "      <th>35</th>\n",
              "      <td>out_prncp_inv</td>\n",
              "      <td>float64</td>\n",
              "      <td>0</td>\n",
              "      <td>Remaining outstanding principal for portion of...</td>\n",
              "    </tr>\n",
              "    <tr>\n",
              "      <th>36</th>\n",
              "      <td>total_pymnt</td>\n",
              "      <td>float64</td>\n",
              "      <td>5863.16</td>\n",
              "      <td>Payments received to date for total amount funded</td>\n",
              "    </tr>\n",
              "    <tr>\n",
              "      <th>37</th>\n",
              "      <td>total_pymnt_inv</td>\n",
              "      <td>float64</td>\n",
              "      <td>5833.84</td>\n",
              "      <td>Payments received to date for portion of total...</td>\n",
              "    </tr>\n",
              "  </tbody>\n",
              "</table>\n",
              "</div>"
            ],
            "text/plain": [
              "                   name  ...                                        description\n",
              "19                title  ...            The loan title provided by the borrower\n",
              "20             zip_code  ...  The first 3 numbers of the zip code provided b...\n",
              "21           addr_state  ...  The state provided by the borrower in the loan...\n",
              "22                  dti  ...  A ratio calculated using the borrower’s total ...\n",
              "23          delinq_2yrs  ...  The number of 30+ days past-due incidences of ...\n",
              "24     earliest_cr_line  ...  The month the borrower's earliest reported cre...\n",
              "25       fico_range_low  ...  The lower boundary range the borrower’s FICO a...\n",
              "26      fico_range_high  ...  The upper boundary range the borrower’s FICO a...\n",
              "27       inq_last_6mths  ...  The number of inquiries in past 6 months (excl...\n",
              "28             open_acc  ...  The number of open credit lines in the borrowe...\n",
              "29              pub_rec  ...                Number of derogatory public records\n",
              "30            revol_bal  ...                     Total credit revolving balance\n",
              "31           revol_util  ...  Revolving line utilization rate, or the amount...\n",
              "32            total_acc  ...  The total number of credit lines currently in ...\n",
              "33  initial_list_status  ...  The initial listing status of the loan. Possib...\n",
              "34            out_prncp  ...  Remaining outstanding principal for total amou...\n",
              "35        out_prncp_inv  ...  Remaining outstanding principal for portion of...\n",
              "36          total_pymnt  ...  Payments received to date for total amount funded\n",
              "37      total_pymnt_inv  ...  Payments received to date for portion of total...\n",
              "\n",
              "[19 rows x 4 columns]"
            ]
          },
          "metadata": {
            "tags": []
          },
          "execution_count": 15
        }
      ]
    },
    {
      "cell_type": "markdown",
      "metadata": {
        "id": "fYo0vkGYHKKy",
        "colab_type": "text"
      },
      "source": [
        "Reviewing our second group of columns, we can further refine our data set by dropping the following columns:\n",
        "\n",
        "\n",
        "\n",
        "*   **zip_code** – mostly redundant with the **addr_state** column since only the first 3 digits of the 5 digit zip code are visible\n",
        "\n",
        "*   **out_prncp** – leaks data from the future.\n",
        "\n",
        "*   **out_prncp_inv** – also leaks data from the future.\n",
        "\n",
        "*   **total_pymnt** – also leaks data from the future.\n",
        "\n",
        "*   **total_pymnt_inv** – also leaks data from the future.\n",
        "\n",
        "\n",
        "\n",
        "\n"
      ]
    },
    {
      "cell_type": "code",
      "metadata": {
        "id": "usPAUyFuGfPh",
        "colab_type": "code",
        "colab": {}
      },
      "source": [
        "drop_cols = [ 'zip_code','out_prncp','out_prncp_inv','total_pymnt','total_pymnt_inv']\n",
        "loans_2007 = loans_2007.drop(drop_cols, axis=1)"
      ],
      "execution_count": 0,
      "outputs": []
    },
    {
      "cell_type": "markdown",
      "metadata": {
        "id": "u1TImmufQbNY",
        "colab_type": "text"
      },
      "source": [
        "##Third Group of Columns"
      ]
    },
    {
      "cell_type": "code",
      "metadata": {
        "id": "whhx43TkHuHF",
        "colab_type": "code",
        "outputId": "a42c86da-2ac1-4855-f5a0-cf4967e17f4f",
        "colab": {
          "base_uri": "https://localhost:8080/",
          "height": 607
        }
      },
      "source": [
        "preview[38:]"
      ],
      "execution_count": 0,
      "outputs": [
        {
          "output_type": "execute_result",
          "data": {
            "text/html": [
              "<div>\n",
              "<style scoped>\n",
              "    .dataframe tbody tr th:only-of-type {\n",
              "        vertical-align: middle;\n",
              "    }\n",
              "\n",
              "    .dataframe tbody tr th {\n",
              "        vertical-align: top;\n",
              "    }\n",
              "\n",
              "    .dataframe thead th {\n",
              "        text-align: right;\n",
              "    }\n",
              "</style>\n",
              "<table border=\"1\" class=\"dataframe\">\n",
              "  <thead>\n",
              "    <tr style=\"text-align: right;\">\n",
              "      <th></th>\n",
              "      <th>name</th>\n",
              "      <th>dtypes</th>\n",
              "      <th>first value</th>\n",
              "      <th>description</th>\n",
              "    </tr>\n",
              "  </thead>\n",
              "  <tbody>\n",
              "    <tr>\n",
              "      <th>38</th>\n",
              "      <td>total_rec_prncp</td>\n",
              "      <td>float64</td>\n",
              "      <td>5000</td>\n",
              "      <td>Principal received to date</td>\n",
              "    </tr>\n",
              "    <tr>\n",
              "      <th>39</th>\n",
              "      <td>total_rec_int</td>\n",
              "      <td>float64</td>\n",
              "      <td>863.16</td>\n",
              "      <td>Interest received to date</td>\n",
              "    </tr>\n",
              "    <tr>\n",
              "      <th>40</th>\n",
              "      <td>total_rec_late_fee</td>\n",
              "      <td>float64</td>\n",
              "      <td>0</td>\n",
              "      <td>Late fees received to date</td>\n",
              "    </tr>\n",
              "    <tr>\n",
              "      <th>41</th>\n",
              "      <td>recoveries</td>\n",
              "      <td>float64</td>\n",
              "      <td>0</td>\n",
              "      <td>post charge off gross recovery</td>\n",
              "    </tr>\n",
              "    <tr>\n",
              "      <th>42</th>\n",
              "      <td>collection_recovery_fee</td>\n",
              "      <td>float64</td>\n",
              "      <td>0</td>\n",
              "      <td>post charge off collection fee</td>\n",
              "    </tr>\n",
              "    <tr>\n",
              "      <th>43</th>\n",
              "      <td>last_pymnt_d</td>\n",
              "      <td>object</td>\n",
              "      <td>Jan-2015</td>\n",
              "      <td>Last month payment was received</td>\n",
              "    </tr>\n",
              "    <tr>\n",
              "      <th>44</th>\n",
              "      <td>last_pymnt_amnt</td>\n",
              "      <td>float64</td>\n",
              "      <td>171.62</td>\n",
              "      <td>Last total payment amount received</td>\n",
              "    </tr>\n",
              "    <tr>\n",
              "      <th>45</th>\n",
              "      <td>last_credit_pull_d</td>\n",
              "      <td>object</td>\n",
              "      <td>Sep-2016</td>\n",
              "      <td>The most recent month LC pulled credit for thi...</td>\n",
              "    </tr>\n",
              "    <tr>\n",
              "      <th>46</th>\n",
              "      <td>last_fico_range_high</td>\n",
              "      <td>float64</td>\n",
              "      <td>744</td>\n",
              "      <td>The upper boundary range the borrower’s last F...</td>\n",
              "    </tr>\n",
              "    <tr>\n",
              "      <th>47</th>\n",
              "      <td>last_fico_range_low</td>\n",
              "      <td>float64</td>\n",
              "      <td>740</td>\n",
              "      <td>The lower boundary range the borrower’s last F...</td>\n",
              "    </tr>\n",
              "    <tr>\n",
              "      <th>48</th>\n",
              "      <td>collections_12_mths_ex_med</td>\n",
              "      <td>float64</td>\n",
              "      <td>0</td>\n",
              "      <td>Number of collections in 12 months excluding m...</td>\n",
              "    </tr>\n",
              "    <tr>\n",
              "      <th>49</th>\n",
              "      <td>policy_code</td>\n",
              "      <td>float64</td>\n",
              "      <td>1</td>\n",
              "      <td>publicly available policy_code=1\\nnew products...</td>\n",
              "    </tr>\n",
              "    <tr>\n",
              "      <th>50</th>\n",
              "      <td>application_type</td>\n",
              "      <td>object</td>\n",
              "      <td>INDIVIDUAL</td>\n",
              "      <td>Indicates whether the loan is an individual ap...</td>\n",
              "    </tr>\n",
              "    <tr>\n",
              "      <th>51</th>\n",
              "      <td>acc_now_delinq</td>\n",
              "      <td>float64</td>\n",
              "      <td>0</td>\n",
              "      <td>The number of accounts on which the borrower i...</td>\n",
              "    </tr>\n",
              "    <tr>\n",
              "      <th>52</th>\n",
              "      <td>chargeoff_within_12_mths</td>\n",
              "      <td>float64</td>\n",
              "      <td>0</td>\n",
              "      <td>Number of charge-offs within 12 months</td>\n",
              "    </tr>\n",
              "    <tr>\n",
              "      <th>53</th>\n",
              "      <td>delinq_amnt</td>\n",
              "      <td>float64</td>\n",
              "      <td>0</td>\n",
              "      <td>The past-due amount owed for the accounts on w...</td>\n",
              "    </tr>\n",
              "    <tr>\n",
              "      <th>54</th>\n",
              "      <td>pub_rec_bankruptcies</td>\n",
              "      <td>float64</td>\n",
              "      <td>0</td>\n",
              "      <td>Number of public record bankruptcies</td>\n",
              "    </tr>\n",
              "    <tr>\n",
              "      <th>55</th>\n",
              "      <td>tax_liens</td>\n",
              "      <td>float64</td>\n",
              "      <td>0</td>\n",
              "      <td>Number of tax liens</td>\n",
              "    </tr>\n",
              "  </tbody>\n",
              "</table>\n",
              "</div>"
            ],
            "text/plain": [
              "                          name  ...                                        description\n",
              "38             total_rec_prncp  ...                         Principal received to date\n",
              "39               total_rec_int  ...                          Interest received to date\n",
              "40          total_rec_late_fee  ...                         Late fees received to date\n",
              "41                  recoveries  ...                     post charge off gross recovery\n",
              "42     collection_recovery_fee  ...                     post charge off collection fee\n",
              "43                last_pymnt_d  ...                    Last month payment was received\n",
              "44             last_pymnt_amnt  ...                 Last total payment amount received\n",
              "45          last_credit_pull_d  ...  The most recent month LC pulled credit for thi...\n",
              "46        last_fico_range_high  ...  The upper boundary range the borrower’s last F...\n",
              "47         last_fico_range_low  ...  The lower boundary range the borrower’s last F...\n",
              "48  collections_12_mths_ex_med  ...  Number of collections in 12 months excluding m...\n",
              "49                 policy_code  ...  publicly available policy_code=1\\nnew products...\n",
              "50            application_type  ...  Indicates whether the loan is an individual ap...\n",
              "51              acc_now_delinq  ...  The number of accounts on which the borrower i...\n",
              "52    chargeoff_within_12_mths  ...             Number of charge-offs within 12 months\n",
              "53                 delinq_amnt  ...  The past-due amount owed for the accounts on w...\n",
              "54        pub_rec_bankruptcies  ...               Number of public record bankruptcies\n",
              "55                   tax_liens  ...                                Number of tax liens\n",
              "\n",
              "[18 rows x 4 columns]"
            ]
          },
          "metadata": {
            "tags": []
          },
          "execution_count": 17
        }
      ]
    },
    {
      "cell_type": "markdown",
      "metadata": {
        "id": "XTPfN8OXQ4wf",
        "colab_type": "text"
      },
      "source": [
        "In this last group of columns, we need to drop the following, all of which leak data from the future:\n",
        "\n",
        "*   total_rec_prncp\n",
        "\n",
        "*   total_rec_int\n",
        "\n",
        "*   total_rec_late_fee\n",
        "\n",
        "*   recoveries\n",
        "\n",
        "*   collection_recovery_fee\n",
        "\n",
        "*   last_pymnt_d\n",
        "\n",
        "*   last_pymnt_amnt\n",
        "\n",
        "\n"
      ]
    },
    {
      "cell_type": "code",
      "metadata": {
        "id": "BYIg1j1cQfpD",
        "colab_type": "code",
        "colab": {}
      },
      "source": [
        "drop_cols = ['total_rec_prncp','total_rec_int','total_rec_late_fee','recoveries',\n",
        "             'collection_recovery_fee', 'last_pymnt_d','last_pymnt_amnt']\n",
        "loans_2007 = loans_2007.drop(drop_cols, axis=1)"
      ],
      "execution_count": 0,
      "outputs": []
    },
    {
      "cell_type": "markdown",
      "metadata": {
        "id": "y_0FbdgGSga2",
        "colab_type": "text"
      },
      "source": [
        "##Investigating FICO Columns\n",
        "\n",
        "FICO scores are a credit score: a number used by banks and credit cards to represent how credit-worthy a person is.\n",
        "\n",
        "Now in our data the initial FICO scores(**fico_score_low** and **fico_score_high**) would be available as part of borrower's application. But the **last_fico_range_low** and **last_fico_range_high** would not be available during the application. Thus these two columns will leak information from future."
      ]
    },
    {
      "cell_type": "code",
      "metadata": {
        "id": "hI_vVKhsRc-P",
        "colab_type": "code",
        "outputId": "609032d2-19b0-4012-c5aa-eaa82ec61a4a",
        "colab": {
          "base_uri": "https://localhost:8080/",
          "height": 303
        }
      },
      "source": [
        "fico_columns = ['fico_range_high','fico_range_low']\n",
        "print(loans_2007.shape[0])\n",
        "\n",
        "loans_2007.dropna(subset=fico_columns,inplace=True) # Dropping any missing value\n",
        "print(loans_2007.shape[0])\n",
        "\n",
        "loans_2007[fico_columns].plot.hist(alpha=0.5,bins=20);"
      ],
      "execution_count": 0,
      "outputs": [
        {
          "output_type": "stream",
          "text": [
            "42538\n",
            "42535\n"
          ],
          "name": "stdout"
        },
        {
          "output_type": "display_data",
          "data": {
            "image/png": "[encoded data removed]",
            "text/plain": [
              "<Figure size 432x288 with 1 Axes>"
            ]
          },
          "metadata": {
            "tags": []
          }
        }
      ]
    },
    {
      "cell_type": "code",
      "metadata": {
        "id": "8lgCGeFDTsqB",
        "colab_type": "code",
        "outputId": "7a57cdd8-5d44-44ce-9379-56d427675351",
        "colab": {
          "base_uri": "https://localhost:8080/",
          "height": 204
        }
      },
      "source": [
        "# Creating a new column of average of FICO ranges\n",
        "loans_2007['fico_average'] = (loans_2007['fico_range_high'] + loans_2007['fico_range_low']) / 2\n",
        "\n",
        "cols = ['fico_range_low','fico_range_high','fico_average']\n",
        "loans_2007[cols].head()"
      ],
      "execution_count": 0,
      "outputs": [
        {
          "output_type": "execute_result",
          "data": {
            "text/html": [
              "<div>\n",
              "<style scoped>\n",
              "    .dataframe tbody tr th:only-of-type {\n",
              "        vertical-align: middle;\n",
              "    }\n",
              "\n",
              "    .dataframe tbody tr th {\n",
              "        vertical-align: top;\n",
              "    }\n",
              "\n",
              "    .dataframe thead th {\n",
              "        text-align: right;\n",
              "    }\n",
              "</style>\n",
              "<table border=\"1\" class=\"dataframe\">\n",
              "  <thead>\n",
              "    <tr style=\"text-align: right;\">\n",
              "      <th></th>\n",
              "      <th>fico_range_low</th>\n",
              "      <th>fico_range_high</th>\n",
              "      <th>fico_average</th>\n",
              "    </tr>\n",
              "  </thead>\n",
              "  <tbody>\n",
              "    <tr>\n",
              "      <th>0</th>\n",
              "      <td>735.0</td>\n",
              "      <td>739.0</td>\n",
              "      <td>737.0</td>\n",
              "    </tr>\n",
              "    <tr>\n",
              "      <th>1</th>\n",
              "      <td>740.0</td>\n",
              "      <td>744.0</td>\n",
              "      <td>742.0</td>\n",
              "    </tr>\n",
              "    <tr>\n",
              "      <th>2</th>\n",
              "      <td>735.0</td>\n",
              "      <td>739.0</td>\n",
              "      <td>737.0</td>\n",
              "    </tr>\n",
              "    <tr>\n",
              "      <th>3</th>\n",
              "      <td>690.0</td>\n",
              "      <td>694.0</td>\n",
              "      <td>692.0</td>\n",
              "    </tr>\n",
              "    <tr>\n",
              "      <th>4</th>\n",
              "      <td>695.0</td>\n",
              "      <td>699.0</td>\n",
              "      <td>697.0</td>\n",
              "    </tr>\n",
              "  </tbody>\n",
              "</table>\n",
              "</div>"
            ],
            "text/plain": [
              "   fico_range_low  fico_range_high  fico_average\n",
              "0           735.0            739.0         737.0\n",
              "1           740.0            744.0         742.0\n",
              "2           735.0            739.0         737.0\n",
              "3           690.0            694.0         692.0\n",
              "4           695.0            699.0         697.0"
            ]
          },
          "metadata": {
            "tags": []
          },
          "execution_count": 20
        }
      ]
    },
    {
      "cell_type": "code",
      "metadata": {
        "id": "m5XBNJGnUGCh",
        "colab_type": "code",
        "outputId": "9b3a67bf-1fd0-436b-f6e2-a1f23867656c",
        "colab": {
          "base_uri": "https://localhost:8080/",
          "height": 34
        }
      },
      "source": [
        "# Dropping the columns which are not needed.\n",
        "drop_cols = ['fico_range_low','fico_range_high','last_fico_range_low', 'last_fico_range_high']\n",
        "loans_2007 = loans_2007.drop(drop_cols, axis=1)\n",
        "loans_2007.shape"
      ],
      "execution_count": 0,
      "outputs": [
        {
          "output_type": "execute_result",
          "data": {
            "text/plain": [
              "(42535, 33)"
            ]
          },
          "metadata": {
            "tags": []
          },
          "execution_count": 21
        }
      ]
    },
    {
      "cell_type": "markdown",
      "metadata": {
        "id": "kFIu8Uu0UhE9",
        "colab_type": "text"
      },
      "source": [
        "Here we have reduced the numbr of columns from 56 to 33 without losing any information and avoiding any data leakage problem."
      ]
    },
    {
      "cell_type": "markdown",
      "metadata": {
        "id": "ZWlfZW-KUahl",
        "colab_type": "text"
      },
      "source": [
        "## Deciding on TARGET column"
      ]
    },
    {
      "cell_type": "code",
      "metadata": {
        "id": "HgYf-DMbUQOQ",
        "colab_type": "code",
        "outputId": "92919b3a-f88b-4bc1-bd82-fb76b95b5a5f",
        "colab": {
          "base_uri": "https://localhost:8080/",
          "height": 80
        }
      },
      "source": [
        "preview[preview['name']=='loan_status']"
      ],
      "execution_count": 0,
      "outputs": [
        {
          "output_type": "execute_result",
          "data": {
            "text/html": [
              "<div>\n",
              "<style scoped>\n",
              "    .dataframe tbody tr th:only-of-type {\n",
              "        vertical-align: middle;\n",
              "    }\n",
              "\n",
              "    .dataframe tbody tr th {\n",
              "        vertical-align: top;\n",
              "    }\n",
              "\n",
              "    .dataframe thead th {\n",
              "        text-align: right;\n",
              "    }\n",
              "</style>\n",
              "<table border=\"1\" class=\"dataframe\">\n",
              "  <thead>\n",
              "    <tr style=\"text-align: right;\">\n",
              "      <th></th>\n",
              "      <th>name</th>\n",
              "      <th>dtypes</th>\n",
              "      <th>first value</th>\n",
              "      <th>description</th>\n",
              "    </tr>\n",
              "  </thead>\n",
              "  <tbody>\n",
              "    <tr>\n",
              "      <th>16</th>\n",
              "      <td>loan_status</td>\n",
              "      <td>object</td>\n",
              "      <td>Fully Paid</td>\n",
              "      <td>Current status of the loan</td>\n",
              "    </tr>\n",
              "  </tbody>\n",
              "</table>\n",
              "</div>"
            ],
            "text/plain": [
              "           name  dtypes first value                 description\n",
              "16  loan_status  object  Fully Paid  Current status of the loan"
            ]
          },
          "metadata": {
            "tags": []
          },
          "execution_count": 22
        }
      ]
    },
    {
      "cell_type": "code",
      "metadata": {
        "id": "qJJiw7D4U6GS",
        "colab_type": "code",
        "outputId": "37a5febd-c8aa-4a73-e47a-fec029010d67",
        "colab": {
          "base_uri": "https://localhost:8080/",
          "height": 187
        }
      },
      "source": [
        "loans_2007['loan_status'].value_counts()"
      ],
      "execution_count": 0,
      "outputs": [
        {
          "output_type": "execute_result",
          "data": {
            "text/plain": [
              "Fully Paid                                             33586\n",
              "Charged Off                                             5653\n",
              "Does not meet the credit policy. Status:Fully Paid      1988\n",
              "Does not meet the credit policy. Status:Charged Off      761\n",
              "Current                                                  513\n",
              "In Grace Period                                           16\n",
              "Late (31-120 days)                                        12\n",
              "Late (16-30 days)                                          5\n",
              "Default                                                    1\n",
              "Name: loan_status, dtype: int64"
            ]
          },
          "metadata": {
            "tags": []
          },
          "execution_count": 24
        }
      ]
    },
    {
      "cell_type": "markdown",
      "metadata": {
        "id": "Ujx-dx8oWToY",
        "colab_type": "text"
      },
      "source": [
        "Here **Fully Paid** and **Charged Off** are the only values which are important.\n",
        "We can classify **Fully Paid** as 1 and **Charged Off** as 0."
      ]
    },
    {
      "cell_type": "code",
      "metadata": {
        "id": "9Jxn1dteV4EP",
        "colab_type": "code",
        "colab": {}
      },
      "source": [
        "loans_2007 = loans_2007[(loans_2007['loan_status'] == 'Fully Paid') | (loans_2007['loan_status'] == 'Charged Off')]\n",
        "\n",
        "mapping_dictionary = {\"loan_status\":{ \"Fully Paid\": 1, \"Charged Off\": 0}}\n",
        "loans_2007 = loans_2007.replace(mapping_dictionary)"
      ],
      "execution_count": 0,
      "outputs": []
    },
    {
      "cell_type": "code",
      "metadata": {
        "id": "57_pfqP0XTP1",
        "colab_type": "code",
        "outputId": "c26ca6fe-89aa-4593-f4d2-8b6c0af4c6ca",
        "colab": {
          "base_uri": "https://localhost:8080/",
          "height": 459
        }
      },
      "source": [
        "# Visualising the Target Coumn\n",
        "\n",
        "fig, axs = plt.subplots(1,2,figsize=(14,7))\n",
        "sns.countplot(x='loan_status',data=loans_2007,ax=axs[0])\n",
        "axs[0].set_title(\"Frequency of each Loan Status\")\n",
        "loans_2007.loan_status.value_counts().plot(x=None,y=None, kind='pie', ax=axs[1],autopct='%1.2f%%')\n",
        "axs[1].set_title(\"Percentage of each Loan status\")\n",
        "plt.show()"
      ],
      "execution_count": 0,
      "outputs": [
        {
          "output_type": "display_data",
          "data": {
            "image/png": "[encoded data removed]",
            "text/plain": [
              "<Figure size 1008x504 with 2 Axes>"
            ]
          },
          "metadata": {
            "tags": []
          }
        }
      ]
    },
    {
      "cell_type": "markdown",
      "metadata": {
        "id": "lcUNbDYoYoKS",
        "colab_type": "text"
      },
      "source": [
        "## Remove Columns with only One Value\n"
      ]
    },
    {
      "cell_type": "code",
      "metadata": {
        "id": "XOhTqydtXvme",
        "colab_type": "code",
        "colab": {}
      },
      "source": [
        "loans_2007 = loans_2007.loc[:,loans_2007.apply(pd.Series.nunique) != 1]"
      ],
      "execution_count": 0,
      "outputs": []
    },
    {
      "cell_type": "markdown",
      "metadata": {
        "id": "y9-HfjEWYzpR",
        "colab_type": "text"
      },
      "source": [
        "There may be some columns with more than one unique value, but one value that has insignificant frequency in the data set. Let’s find and drop any columns with unique values that appear fewer than four times:"
      ]
    },
    {
      "cell_type": "code",
      "metadata": {
        "id": "Joik--ncYyv6",
        "colab_type": "code",
        "outputId": "11bc0093-b436-40e9-e915-07a33e9ae4ad",
        "colab": {
          "base_uri": "https://localhost:8080/",
          "height": 238
        }
      },
      "source": [
        "for col in loans_2007.columns:\n",
        "  if (len(loans_2007[col].unique())<4):\n",
        "    print(loans_2007[col].value_counts())"
      ],
      "execution_count": 0,
      "outputs": [
        {
          "output_type": "stream",
          "text": [
            " 36 months    29096\n",
            " 60 months    10143\n",
            "Name: term, dtype: int64\n",
            "Not Verified       16845\n",
            "Verified           12526\n",
            "Source Verified     9868\n",
            "Name: verification_status, dtype: int64\n",
            "1    33586\n",
            "0     5653\n",
            "Name: loan_status, dtype: int64\n",
            "n    39238\n",
            "y        1\n",
            "Name: pymnt_plan, dtype: int64\n"
          ],
          "name": "stdout"
        }
      ]
    },
    {
      "cell_type": "markdown",
      "metadata": {
        "id": "N-shlKcoZkRv",
        "colab_type": "text"
      },
      "source": [
        "Here in **pymnt_plan** we can see that value **y** has only one count. So we should remove this column."
      ]
    },
    {
      "cell_type": "code",
      "metadata": {
        "id": "zazBBhdPZZZJ",
        "colab_type": "code",
        "outputId": "d5822375-afe6-4ecd-9457-a56d984f8998",
        "colab": {
          "base_uri": "https://localhost:8080/",
          "height": 51
        }
      },
      "source": [
        "print(loans_2007.shape[1])\n",
        "loans_2007 = loans_2007.drop('pymnt_plan', axis=1)\n",
        "print(\"We've been able to reduce the features to => {}\".format(loans_2007.shape[1]))"
      ],
      "execution_count": 0,
      "outputs": [
        {
          "output_type": "stream",
          "text": [
            "25\n",
            "We've been able to reduce the features to => 24\n"
          ],
          "name": "stdout"
        }
      ]
    },
    {
      "cell_type": "code",
      "metadata": {
        "id": "-Li9FETlZ21Q",
        "colab_type": "code",
        "colab": {}
      },
      "source": [
        "#Saving our transformed data.\n",
        "loans_2007.to_csv(\"filtered_loans_2007.csv\",index=False)"
      ],
      "execution_count": 0,
      "outputs": []
    }
  ]
}