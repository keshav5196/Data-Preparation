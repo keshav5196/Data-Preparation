{
  "nbformat": 4,
  "nbformat_minor": 0,
  "metadata": {
    "colab": {
      "name": "Kill Biller.ipynb",
      "provenance": [],
      "collapsed_sections": []
    },
    "kernelspec": {
      "name": "python3",
      "display_name": "Python 3"
    }
  },
  "cells": [
    {
      "cell_type": "code",
      "metadata": {
        "id": "E8pmkqeUhg7Y",
        "colab_type": "code",
        "colab": {
          "base_uri": "https://localhost:8080/",
          "height": 122
        },
        "outputId": "2af2fa89-95ed-49f0-c9c1-08d2c97b4812"
      },
      "source": [
        "from google.colab import drive\n",
        "drive.mount('/content/drive')"
      ],
      "execution_count": 1,
      "outputs": [
        {
          "output_type": "stream",
          "text": [
            "Go to this URL in a browser: https://accounts.google.com/o/oauth2/auth?client_id=947318989803-6bn6qk8qdgf4n4g3pfee6491hc0brc4i.apps.googleusercontent.com&redirect_uri=urn%3Aietf%3Awg%3Aoauth%3A2.0%3Aoob&scope=email%20https%3A%2F%2Fwww.googleapis.com%2Fauth%2Fdocs.test%20https%3A%2F%2Fwww.googleapis.com%2Fauth%2Fdrive%20https%3A%2F%2Fwww.googleapis.com%2Fauth%2Fdrive.photos.readonly%20https%3A%2F%2Fwww.googleapis.com%2Fauth%2Fpeopleapi.readonly&response_type=code\n",
            "\n",
            "Enter your authorization code:\n",
            "··········\n",
            "Mounted at /content/drive\n"
          ],
          "name": "stdout"
        }
      ]
    },
    {
      "cell_type": "markdown",
      "metadata": {
        "id": "GTcIDNsmhrMU",
        "colab_type": "text"
      },
      "source": [
        "Information about the data:\n",
        "\n",
        "**user_usage.csv:** This dataset containing users monthly mobile usage statistics.\n",
        "\n",
        "**user_device.csv:** This dataset containing details of an individual “use” of the system, with dates and device information.\n",
        "\n",
        "**android_device.csv:** This dataset with device and manufacturer data, which lists all Android devices and their model code."
      ]
    },
    {
      "cell_type": "code",
      "metadata": {
        "id": "bH_NPJD3idN7",
        "colab_type": "code",
        "colab": {}
      },
      "source": [
        "import pandas as pd\n",
        "import numpy as np"
      ],
      "execution_count": 0,
      "outputs": []
    },
    {
      "cell_type": "code",
      "metadata": {
        "id": "n9ZRhlJ1hoPi",
        "colab_type": "code",
        "colab": {
          "base_uri": "https://localhost:8080/",
          "height": 204
        },
        "outputId": "6c863ca9-e513-441b-9052-aab9465d53aa"
      },
      "source": [
        "user_usage = pd.read_csv('/content/drive/My Drive/Pandas-Merge-Tutorial-master/user_usage.csv')\n",
        "user_usage.head()"
      ],
      "execution_count": 4,
      "outputs": [
        {
          "output_type": "execute_result",
          "data": {
            "text/html": [
              "<div>\n",
              "<style scoped>\n",
              "    .dataframe tbody tr th:only-of-type {\n",
              "        vertical-align: middle;\n",
              "    }\n",
              "\n",
              "    .dataframe tbody tr th {\n",
              "        vertical-align: top;\n",
              "    }\n",
              "\n",
              "    .dataframe thead th {\n",
              "        text-align: right;\n",
              "    }\n",
              "</style>\n",
              "<table border=\"1\" class=\"dataframe\">\n",
              "  <thead>\n",
              "    <tr style=\"text-align: right;\">\n",
              "      <th></th>\n",
              "      <th>outgoing_mins_per_month</th>\n",
              "      <th>outgoing_sms_per_month</th>\n",
              "      <th>monthly_mb</th>\n",
              "      <th>use_id</th>\n",
              "    </tr>\n",
              "  </thead>\n",
              "  <tbody>\n",
              "    <tr>\n",
              "      <th>0</th>\n",
              "      <td>21.97</td>\n",
              "      <td>4.82</td>\n",
              "      <td>1557.33</td>\n",
              "      <td>22787</td>\n",
              "    </tr>\n",
              "    <tr>\n",
              "      <th>1</th>\n",
              "      <td>1710.08</td>\n",
              "      <td>136.88</td>\n",
              "      <td>7267.55</td>\n",
              "      <td>22788</td>\n",
              "    </tr>\n",
              "    <tr>\n",
              "      <th>2</th>\n",
              "      <td>1710.08</td>\n",
              "      <td>136.88</td>\n",
              "      <td>7267.55</td>\n",
              "      <td>22789</td>\n",
              "    </tr>\n",
              "    <tr>\n",
              "      <th>3</th>\n",
              "      <td>94.46</td>\n",
              "      <td>35.17</td>\n",
              "      <td>519.12</td>\n",
              "      <td>22790</td>\n",
              "    </tr>\n",
              "    <tr>\n",
              "      <th>4</th>\n",
              "      <td>71.59</td>\n",
              "      <td>79.26</td>\n",
              "      <td>1557.33</td>\n",
              "      <td>22792</td>\n",
              "    </tr>\n",
              "  </tbody>\n",
              "</table>\n",
              "</div>"
            ],
            "text/plain": [
              "   outgoing_mins_per_month  outgoing_sms_per_month  monthly_mb  use_id\n",
              "0                    21.97                    4.82     1557.33   22787\n",
              "1                  1710.08                  136.88     7267.55   22788\n",
              "2                  1710.08                  136.88     7267.55   22789\n",
              "3                    94.46                   35.17      519.12   22790\n",
              "4                    71.59                   79.26     1557.33   22792"
            ]
          },
          "metadata": {
            "tags": []
          },
          "execution_count": 4
        }
      ]
    },
    {
      "cell_type": "code",
      "metadata": {
        "id": "ZvTnLZwnib05",
        "colab_type": "code",
        "colab": {
          "base_uri": "https://localhost:8080/",
          "height": 204
        },
        "outputId": "6af991c5-5c15-4417-f9a8-922d587b1f2d"
      },
      "source": [
        "user_device = pd.read_csv('/content/drive/My Drive/Pandas-Merge-Tutorial-master/user_device.csv')\n",
        "user_device.head()"
      ],
      "execution_count": 5,
      "outputs": [
        {
          "output_type": "execute_result",
          "data": {
            "text/html": [
              "<div>\n",
              "<style scoped>\n",
              "    .dataframe tbody tr th:only-of-type {\n",
              "        vertical-align: middle;\n",
              "    }\n",
              "\n",
              "    .dataframe tbody tr th {\n",
              "        vertical-align: top;\n",
              "    }\n",
              "\n",
              "    .dataframe thead th {\n",
              "        text-align: right;\n",
              "    }\n",
              "</style>\n",
              "<table border=\"1\" class=\"dataframe\">\n",
              "  <thead>\n",
              "    <tr style=\"text-align: right;\">\n",
              "      <th></th>\n",
              "      <th>use_id</th>\n",
              "      <th>user_id</th>\n",
              "      <th>platform</th>\n",
              "      <th>platform_version</th>\n",
              "      <th>device</th>\n",
              "      <th>use_type_id</th>\n",
              "    </tr>\n",
              "  </thead>\n",
              "  <tbody>\n",
              "    <tr>\n",
              "      <th>0</th>\n",
              "      <td>22782</td>\n",
              "      <td>26980</td>\n",
              "      <td>ios</td>\n",
              "      <td>10.2</td>\n",
              "      <td>iPhone7,2</td>\n",
              "      <td>2</td>\n",
              "    </tr>\n",
              "    <tr>\n",
              "      <th>1</th>\n",
              "      <td>22783</td>\n",
              "      <td>29628</td>\n",
              "      <td>android</td>\n",
              "      <td>6.0</td>\n",
              "      <td>Nexus 5</td>\n",
              "      <td>3</td>\n",
              "    </tr>\n",
              "    <tr>\n",
              "      <th>2</th>\n",
              "      <td>22784</td>\n",
              "      <td>28473</td>\n",
              "      <td>android</td>\n",
              "      <td>5.1</td>\n",
              "      <td>SM-G903F</td>\n",
              "      <td>1</td>\n",
              "    </tr>\n",
              "    <tr>\n",
              "      <th>3</th>\n",
              "      <td>22785</td>\n",
              "      <td>15200</td>\n",
              "      <td>ios</td>\n",
              "      <td>10.2</td>\n",
              "      <td>iPhone7,2</td>\n",
              "      <td>3</td>\n",
              "    </tr>\n",
              "    <tr>\n",
              "      <th>4</th>\n",
              "      <td>22786</td>\n",
              "      <td>28239</td>\n",
              "      <td>android</td>\n",
              "      <td>6.0</td>\n",
              "      <td>ONE E1003</td>\n",
              "      <td>1</td>\n",
              "    </tr>\n",
              "  </tbody>\n",
              "</table>\n",
              "</div>"
            ],
            "text/plain": [
              "   use_id  user_id platform  platform_version     device  use_type_id\n",
              "0   22782    26980      ios              10.2  iPhone7,2            2\n",
              "1   22783    29628  android               6.0    Nexus 5            3\n",
              "2   22784    28473  android               5.1   SM-G903F            1\n",
              "3   22785    15200      ios              10.2  iPhone7,2            3\n",
              "4   22786    28239  android               6.0  ONE E1003            1"
            ]
          },
          "metadata": {
            "tags": []
          },
          "execution_count": 5
        }
      ]
    },
    {
      "cell_type": "code",
      "metadata": {
        "id": "BOAQbacFipQq",
        "colab_type": "code",
        "colab": {
          "base_uri": "https://localhost:8080/",
          "height": 204
        },
        "outputId": "cbd0d124-5295-4ad0-e8ae-fee448a1d908"
      },
      "source": [
        "android_devices = pd.read_csv('/content/drive/My Drive/Pandas-Merge-Tutorial-master/android_devices.csv')\n",
        "android_devices.head()"
      ],
      "execution_count": 6,
      "outputs": [
        {
          "output_type": "execute_result",
          "data": {
            "text/html": [
              "<div>\n",
              "<style scoped>\n",
              "    .dataframe tbody tr th:only-of-type {\n",
              "        vertical-align: middle;\n",
              "    }\n",
              "\n",
              "    .dataframe tbody tr th {\n",
              "        vertical-align: top;\n",
              "    }\n",
              "\n",
              "    .dataframe thead th {\n",
              "        text-align: right;\n",
              "    }\n",
              "</style>\n",
              "<table border=\"1\" class=\"dataframe\">\n",
              "  <thead>\n",
              "    <tr style=\"text-align: right;\">\n",
              "      <th></th>\n",
              "      <th>Retail Branding</th>\n",
              "      <th>Marketing Name</th>\n",
              "      <th>Device</th>\n",
              "      <th>Model</th>\n",
              "    </tr>\n",
              "  </thead>\n",
              "  <tbody>\n",
              "    <tr>\n",
              "      <th>0</th>\n",
              "      <td>NaN</td>\n",
              "      <td>NaN</td>\n",
              "      <td>AD681H</td>\n",
              "      <td>Smartfren Andromax AD681H</td>\n",
              "    </tr>\n",
              "    <tr>\n",
              "      <th>1</th>\n",
              "      <td>NaN</td>\n",
              "      <td>NaN</td>\n",
              "      <td>FJL21</td>\n",
              "      <td>FJL21</td>\n",
              "    </tr>\n",
              "    <tr>\n",
              "      <th>2</th>\n",
              "      <td>NaN</td>\n",
              "      <td>NaN</td>\n",
              "      <td>T31</td>\n",
              "      <td>Panasonic T31</td>\n",
              "    </tr>\n",
              "    <tr>\n",
              "      <th>3</th>\n",
              "      <td>NaN</td>\n",
              "      <td>NaN</td>\n",
              "      <td>hws7721g</td>\n",
              "      <td>MediaPad 7 Youth 2</td>\n",
              "    </tr>\n",
              "    <tr>\n",
              "      <th>4</th>\n",
              "      <td>3Q</td>\n",
              "      <td>OC1020A</td>\n",
              "      <td>OC1020A</td>\n",
              "      <td>OC1020A</td>\n",
              "    </tr>\n",
              "  </tbody>\n",
              "</table>\n",
              "</div>"
            ],
            "text/plain": [
              "  Retail Branding Marketing Name    Device                      Model\n",
              "0             NaN            NaN    AD681H  Smartfren Andromax AD681H\n",
              "1             NaN            NaN     FJL21                      FJL21\n",
              "2             NaN            NaN       T31              Panasonic T31\n",
              "3             NaN            NaN  hws7721g         MediaPad 7 Youth 2\n",
              "4              3Q        OC1020A   OC1020A                    OC1020A"
            ]
          },
          "metadata": {
            "tags": []
          },
          "execution_count": 6
        }
      ]
    },
    {
      "cell_type": "markdown",
      "metadata": {
        "id": "k1VjwqffjHM4",
        "colab_type": "text"
      },
      "source": [
        "We would like to determine if the usage patterns for users differ between different devices. For example, do users using Samsung devices use more call minutes than those using LG devices? This is a toy problem given the small sample size in these dataset, but is a perfect example of where merges are required."
      ]
    },
    {
      "cell_type": "code",
      "metadata": {
        "id": "61qq1Lx_i0e_",
        "colab_type": "code",
        "colab": {
          "base_uri": "https://localhost:8080/",
          "height": 204
        },
        "outputId": "e8096550-5de4-423e-80ae-280c31e7c361"
      },
      "source": [
        "result = pd.merge(user_usage, user_device[['use_id', 'platform', 'device']],\n",
        "                  on='use_id', how = 'left')\n",
        "\n",
        "result.head()"
      ],
      "execution_count": 14,
      "outputs": [
        {
          "output_type": "execute_result",
          "data": {
            "text/html": [
              "<div>\n",
              "<style scoped>\n",
              "    .dataframe tbody tr th:only-of-type {\n",
              "        vertical-align: middle;\n",
              "    }\n",
              "\n",
              "    .dataframe tbody tr th {\n",
              "        vertical-align: top;\n",
              "    }\n",
              "\n",
              "    .dataframe thead th {\n",
              "        text-align: right;\n",
              "    }\n",
              "</style>\n",
              "<table border=\"1\" class=\"dataframe\">\n",
              "  <thead>\n",
              "    <tr style=\"text-align: right;\">\n",
              "      <th></th>\n",
              "      <th>outgoing_mins_per_month</th>\n",
              "      <th>outgoing_sms_per_month</th>\n",
              "      <th>monthly_mb</th>\n",
              "      <th>use_id</th>\n",
              "      <th>platform</th>\n",
              "      <th>device</th>\n",
              "    </tr>\n",
              "  </thead>\n",
              "  <tbody>\n",
              "    <tr>\n",
              "      <th>0</th>\n",
              "      <td>21.97</td>\n",
              "      <td>4.82</td>\n",
              "      <td>1557.33</td>\n",
              "      <td>22787</td>\n",
              "      <td>android</td>\n",
              "      <td>GT-I9505</td>\n",
              "    </tr>\n",
              "    <tr>\n",
              "      <th>1</th>\n",
              "      <td>1710.08</td>\n",
              "      <td>136.88</td>\n",
              "      <td>7267.55</td>\n",
              "      <td>22788</td>\n",
              "      <td>android</td>\n",
              "      <td>SM-G930F</td>\n",
              "    </tr>\n",
              "    <tr>\n",
              "      <th>2</th>\n",
              "      <td>1710.08</td>\n",
              "      <td>136.88</td>\n",
              "      <td>7267.55</td>\n",
              "      <td>22789</td>\n",
              "      <td>android</td>\n",
              "      <td>SM-G930F</td>\n",
              "    </tr>\n",
              "    <tr>\n",
              "      <th>3</th>\n",
              "      <td>94.46</td>\n",
              "      <td>35.17</td>\n",
              "      <td>519.12</td>\n",
              "      <td>22790</td>\n",
              "      <td>android</td>\n",
              "      <td>D2303</td>\n",
              "    </tr>\n",
              "    <tr>\n",
              "      <th>4</th>\n",
              "      <td>71.59</td>\n",
              "      <td>79.26</td>\n",
              "      <td>1557.33</td>\n",
              "      <td>22792</td>\n",
              "      <td>android</td>\n",
              "      <td>SM-G361F</td>\n",
              "    </tr>\n",
              "  </tbody>\n",
              "</table>\n",
              "</div>"
            ],
            "text/plain": [
              "   outgoing_mins_per_month  outgoing_sms_per_month  ...  platform    device\n",
              "0                    21.97                    4.82  ...   android  GT-I9505\n",
              "1                  1710.08                  136.88  ...   android  SM-G930F\n",
              "2                  1710.08                  136.88  ...   android  SM-G930F\n",
              "3                    94.46                   35.17  ...   android     D2303\n",
              "4                    71.59                   79.26  ...   android  SM-G361F\n",
              "\n",
              "[5 rows x 6 columns]"
            ]
          },
          "metadata": {
            "tags": []
          },
          "execution_count": 14
        }
      ]
    },
    {
      "cell_type": "code",
      "metadata": {
        "id": "G9Jk_987j1xG",
        "colab_type": "code",
        "colab": {
          "base_uri": "https://localhost:8080/",
          "height": 34
        },
        "outputId": "82aada7e-0d6e-427d-b870-2ab9ae593126"
      },
      "source": [
        "user_usage.shape"
      ],
      "execution_count": 15,
      "outputs": [
        {
          "output_type": "execute_result",
          "data": {
            "text/plain": [
              "(240, 4)"
            ]
          },
          "metadata": {
            "tags": []
          },
          "execution_count": 15
        }
      ]
    },
    {
      "cell_type": "code",
      "metadata": {
        "id": "rdrI-AhMkXPd",
        "colab_type": "code",
        "colab": {
          "base_uri": "https://localhost:8080/",
          "height": 34
        },
        "outputId": "65e6ac09-df91-4407-a342-1674d285e645"
      },
      "source": [
        "result.shape"
      ],
      "execution_count": 16,
      "outputs": [
        {
          "output_type": "execute_result",
          "data": {
            "text/plain": [
              "(240, 6)"
            ]
          },
          "metadata": {
            "tags": []
          },
          "execution_count": 16
        }
      ]
    },
    {
      "cell_type": "code",
      "metadata": {
        "id": "Md7k5e6Ykehl",
        "colab_type": "code",
        "colab": {
          "base_uri": "https://localhost:8080/",
          "height": 68
        },
        "outputId": "622b7bed-d79a-42d8-fa79-01c67ec47a8b"
      },
      "source": [
        "#Check how many values match in both dataframes.\n",
        "user_usage['use_id'].isin(user_device['use_id']).value_counts()"
      ],
      "execution_count": 17,
      "outputs": [
        {
          "output_type": "execute_result",
          "data": {
            "text/plain": [
              "True     159\n",
              "False     81\n",
              "Name: use_id, dtype: int64"
            ]
          },
          "metadata": {
            "tags": []
          },
          "execution_count": 17
        }
      ]
    },
    {
      "cell_type": "code",
      "metadata": {
        "id": "I6a7buTrksuU",
        "colab_type": "code",
        "colab": {
          "base_uri": "https://localhost:8080/",
          "height": 204
        },
        "outputId": "a7e4c700-be42-471d-aa79-8d10b7ae3a9a"
      },
      "source": [
        "android_devices.rename(columns={'Retail Branding':'Manufacturer'}, inplace=True)\n",
        "\n",
        "final = pd.merge(result, android_devices[['Manufacturer', 'Model']], \n",
        "                 left_on='device', right_on='Model',\n",
        "                 how='left')\n",
        "\n",
        "final.head()"
      ],
      "execution_count": 18,
      "outputs": [
        {
          "output_type": "execute_result",
          "data": {
            "text/html": [
              "<div>\n",
              "<style scoped>\n",
              "    .dataframe tbody tr th:only-of-type {\n",
              "        vertical-align: middle;\n",
              "    }\n",
              "\n",
              "    .dataframe tbody tr th {\n",
              "        vertical-align: top;\n",
              "    }\n",
              "\n",
              "    .dataframe thead th {\n",
              "        text-align: right;\n",
              "    }\n",
              "</style>\n",
              "<table border=\"1\" class=\"dataframe\">\n",
              "  <thead>\n",
              "    <tr style=\"text-align: right;\">\n",
              "      <th></th>\n",
              "      <th>outgoing_mins_per_month</th>\n",
              "      <th>outgoing_sms_per_month</th>\n",
              "      <th>monthly_mb</th>\n",
              "      <th>use_id</th>\n",
              "      <th>platform</th>\n",
              "      <th>device</th>\n",
              "      <th>Manufacturer</th>\n",
              "      <th>Model</th>\n",
              "    </tr>\n",
              "  </thead>\n",
              "  <tbody>\n",
              "    <tr>\n",
              "      <th>0</th>\n",
              "      <td>21.97</td>\n",
              "      <td>4.82</td>\n",
              "      <td>1557.33</td>\n",
              "      <td>22787</td>\n",
              "      <td>android</td>\n",
              "      <td>GT-I9505</td>\n",
              "      <td>Samsung</td>\n",
              "      <td>GT-I9505</td>\n",
              "    </tr>\n",
              "    <tr>\n",
              "      <th>1</th>\n",
              "      <td>1710.08</td>\n",
              "      <td>136.88</td>\n",
              "      <td>7267.55</td>\n",
              "      <td>22788</td>\n",
              "      <td>android</td>\n",
              "      <td>SM-G930F</td>\n",
              "      <td>Samsung</td>\n",
              "      <td>SM-G930F</td>\n",
              "    </tr>\n",
              "    <tr>\n",
              "      <th>2</th>\n",
              "      <td>1710.08</td>\n",
              "      <td>136.88</td>\n",
              "      <td>7267.55</td>\n",
              "      <td>22789</td>\n",
              "      <td>android</td>\n",
              "      <td>SM-G930F</td>\n",
              "      <td>Samsung</td>\n",
              "      <td>SM-G930F</td>\n",
              "    </tr>\n",
              "    <tr>\n",
              "      <th>3</th>\n",
              "      <td>94.46</td>\n",
              "      <td>35.17</td>\n",
              "      <td>519.12</td>\n",
              "      <td>22790</td>\n",
              "      <td>android</td>\n",
              "      <td>D2303</td>\n",
              "      <td>Sony</td>\n",
              "      <td>D2303</td>\n",
              "    </tr>\n",
              "    <tr>\n",
              "      <th>4</th>\n",
              "      <td>71.59</td>\n",
              "      <td>79.26</td>\n",
              "      <td>1557.33</td>\n",
              "      <td>22792</td>\n",
              "      <td>android</td>\n",
              "      <td>SM-G361F</td>\n",
              "      <td>Samsung</td>\n",
              "      <td>SM-G361F</td>\n",
              "    </tr>\n",
              "  </tbody>\n",
              "</table>\n",
              "</div>"
            ],
            "text/plain": [
              "   outgoing_mins_per_month  outgoing_sms_per_month  ...  Manufacturer     Model\n",
              "0                    21.97                    4.82  ...       Samsung  GT-I9505\n",
              "1                  1710.08                  136.88  ...       Samsung  SM-G930F\n",
              "2                  1710.08                  136.88  ...       Samsung  SM-G930F\n",
              "3                    94.46                   35.17  ...          Sony     D2303\n",
              "4                    71.59                   79.26  ...       Samsung  SM-G361F\n",
              "\n",
              "[5 rows x 8 columns]"
            ]
          },
          "metadata": {
            "tags": []
          },
          "execution_count": 18
        }
      ]
    },
    {
      "cell_type": "code",
      "metadata": {
        "id": "CUk75zQdkq8D",
        "colab_type": "code",
        "colab": {
          "base_uri": "https://localhost:8080/",
          "height": 421
        },
        "outputId": "ae37d942-de78-4116-ee69-8c69336a9268"
      },
      "source": [
        "final.groupby(\"Manufacturer\").agg({\n",
        "        \"outgoing_mins_per_month\": \"mean\",\n",
        "        \"outgoing_sms_per_month\": \"mean\",\n",
        "        \"monthly_mb\": \"mean\",\n",
        "        \"use_id\": \"count\"\n",
        "    })"
      ],
      "execution_count": 20,
      "outputs": [
        {
          "output_type": "execute_result",
          "data": {
            "text/html": [
              "<div>\n",
              "<style scoped>\n",
              "    .dataframe tbody tr th:only-of-type {\n",
              "        vertical-align: middle;\n",
              "    }\n",
              "\n",
              "    .dataframe tbody tr th {\n",
              "        vertical-align: top;\n",
              "    }\n",
              "\n",
              "    .dataframe thead th {\n",
              "        text-align: right;\n",
              "    }\n",
              "</style>\n",
              "<table border=\"1\" class=\"dataframe\">\n",
              "  <thead>\n",
              "    <tr style=\"text-align: right;\">\n",
              "      <th></th>\n",
              "      <th>outgoing_mins_per_month</th>\n",
              "      <th>outgoing_sms_per_month</th>\n",
              "      <th>monthly_mb</th>\n",
              "      <th>use_id</th>\n",
              "    </tr>\n",
              "    <tr>\n",
              "      <th>Manufacturer</th>\n",
              "      <th></th>\n",
              "      <th></th>\n",
              "      <th></th>\n",
              "      <th></th>\n",
              "    </tr>\n",
              "  </thead>\n",
              "  <tbody>\n",
              "    <tr>\n",
              "      <th>HTC</th>\n",
              "      <td>299.842955</td>\n",
              "      <td>93.059318</td>\n",
              "      <td>5144.077955</td>\n",
              "      <td>44</td>\n",
              "    </tr>\n",
              "    <tr>\n",
              "      <th>Huawei</th>\n",
              "      <td>81.526667</td>\n",
              "      <td>9.500000</td>\n",
              "      <td>1561.226667</td>\n",
              "      <td>3</td>\n",
              "    </tr>\n",
              "    <tr>\n",
              "      <th>LGE</th>\n",
              "      <td>111.530000</td>\n",
              "      <td>12.760000</td>\n",
              "      <td>1557.330000</td>\n",
              "      <td>2</td>\n",
              "    </tr>\n",
              "    <tr>\n",
              "      <th>Lava</th>\n",
              "      <td>60.650000</td>\n",
              "      <td>261.900000</td>\n",
              "      <td>12458.670000</td>\n",
              "      <td>2</td>\n",
              "    </tr>\n",
              "    <tr>\n",
              "      <th>Lenovo</th>\n",
              "      <td>215.920000</td>\n",
              "      <td>12.930000</td>\n",
              "      <td>1557.330000</td>\n",
              "      <td>2</td>\n",
              "    </tr>\n",
              "    <tr>\n",
              "      <th>Motorola</th>\n",
              "      <td>95.127500</td>\n",
              "      <td>65.666250</td>\n",
              "      <td>3946.500000</td>\n",
              "      <td>16</td>\n",
              "    </tr>\n",
              "    <tr>\n",
              "      <th>OnePlus</th>\n",
              "      <td>354.855000</td>\n",
              "      <td>48.330000</td>\n",
              "      <td>6575.410000</td>\n",
              "      <td>6</td>\n",
              "    </tr>\n",
              "    <tr>\n",
              "      <th>Samsung</th>\n",
              "      <td>191.010093</td>\n",
              "      <td>92.390463</td>\n",
              "      <td>4017.318889</td>\n",
              "      <td>108</td>\n",
              "    </tr>\n",
              "    <tr>\n",
              "      <th>Sony</th>\n",
              "      <td>177.315625</td>\n",
              "      <td>40.176250</td>\n",
              "      <td>3212.000625</td>\n",
              "      <td>16</td>\n",
              "    </tr>\n",
              "    <tr>\n",
              "      <th>Vodafone</th>\n",
              "      <td>42.750000</td>\n",
              "      <td>46.830000</td>\n",
              "      <td>5191.120000</td>\n",
              "      <td>1</td>\n",
              "    </tr>\n",
              "    <tr>\n",
              "      <th>ZTE</th>\n",
              "      <td>42.750000</td>\n",
              "      <td>46.830000</td>\n",
              "      <td>5191.120000</td>\n",
              "      <td>1</td>\n",
              "    </tr>\n",
              "  </tbody>\n",
              "</table>\n",
              "</div>"
            ],
            "text/plain": [
              "              outgoing_mins_per_month  ...  use_id\n",
              "Manufacturer                           ...        \n",
              "HTC                        299.842955  ...      44\n",
              "Huawei                      81.526667  ...       3\n",
              "LGE                        111.530000  ...       2\n",
              "Lava                        60.650000  ...       2\n",
              "Lenovo                     215.920000  ...       2\n",
              "Motorola                    95.127500  ...      16\n",
              "OnePlus                    354.855000  ...       6\n",
              "Samsung                    191.010093  ...     108\n",
              "Sony                       177.315625  ...      16\n",
              "Vodafone                    42.750000  ...       1\n",
              "ZTE                         42.750000  ...       1\n",
              "\n",
              "[11 rows x 4 columns]"
            ]
          },
          "metadata": {
            "tags": []
          },
          "execution_count": 20
        }
      ]
    }
  ]
}