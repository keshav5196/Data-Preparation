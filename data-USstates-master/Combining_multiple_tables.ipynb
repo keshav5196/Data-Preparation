{
  "nbformat": 4,
  "nbformat_minor": 0,
  "metadata": {
    "colab": {
      "name": "Combining multiple tables.ipynb",
      "provenance": [],
      "collapsed_sections": []
    },
    "kernelspec": {
      "name": "python3",
      "display_name": "Python 3"
    }
  },
  "cells": [
    {
      "cell_type": "code",
      "metadata": {
        "id": "CRtGRIVUyiec",
        "colab_type": "code",
        "colab": {
          "base_uri": "https://localhost:8080/",
          "height": 122
        },
        "outputId": "cfdf429b-2ad1-44c0-984f-585b3dda1625"
      },
      "source": [
        "from google.colab import drive\n",
        "drive.mount('/content/drive')"
      ],
      "execution_count": 1,
      "outputs": [
        {
          "output_type": "stream",
          "text": [
            "Go to this URL in a browser: https://accounts.google.com/o/oauth2/auth?client_id=947318989803-6bn6qk8qdgf4n4g3pfee6491hc0brc4i.apps.googleusercontent.com&redirect_uri=urn%3Aietf%3Awg%3Aoauth%3A2.0%3Aoob&scope=email%20https%3A%2F%2Fwww.googleapis.com%2Fauth%2Fdocs.test%20https%3A%2F%2Fwww.googleapis.com%2Fauth%2Fdrive%20https%3A%2F%2Fwww.googleapis.com%2Fauth%2Fdrive.photos.readonly%20https%3A%2F%2Fwww.googleapis.com%2Fauth%2Fpeopleapi.readonly&response_type=code\n",
            "\n",
            "Enter your authorization code:\n",
            "··········\n",
            "Mounted at /content/drive\n"
          ],
          "name": "stdout"
        }
      ]
    },
    {
      "cell_type": "markdown",
      "metadata": {
        "id": "WSnbLsM4zZyv",
        "colab_type": "text"
      },
      "source": [
        "Given the information, say we want to compute a relatively straightforward result: rank US states and territories by their 2010 population density. We clearly have the data here to find this result, but we'll have to combine the datasets to find the result."
      ]
    },
    {
      "cell_type": "code",
      "metadata": {
        "id": "sOkjpha7yxRj",
        "colab_type": "code",
        "colab": {}
      },
      "source": [
        "import pandas as pd\n",
        "import numpy as np"
      ],
      "execution_count": 0,
      "outputs": []
    },
    {
      "cell_type": "code",
      "metadata": {
        "id": "qnfljvLeyz1T",
        "colab_type": "code",
        "colab": {}
      },
      "source": [
        "pop = pd.read_csv('/content/drive/My Drive/data-USstates-master/state-population.csv')\n",
        "areas = pd.read_csv('/content/drive/My Drive/data-USstates-master/state-areas.csv')\n",
        "abbrevs = pd.read_csv('/content/drive/My Drive/data-USstates-master/state-abbrevs.csv')"
      ],
      "execution_count": 0,
      "outputs": []
    },
    {
      "cell_type": "code",
      "metadata": {
        "id": "xDCvFML2zFtj",
        "colab_type": "code",
        "colab": {
          "base_uri": "https://localhost:8080/",
          "height": 204
        },
        "outputId": "e56c9440-eff9-4dd3-b4a1-2658d31f72eb"
      },
      "source": [
        "pop.head()"
      ],
      "execution_count": 4,
      "outputs": [
        {
          "output_type": "execute_result",
          "data": {
            "text/html": [
              "<div>\n",
              "<style scoped>\n",
              "    .dataframe tbody tr th:only-of-type {\n",
              "        vertical-align: middle;\n",
              "    }\n",
              "\n",
              "    .dataframe tbody tr th {\n",
              "        vertical-align: top;\n",
              "    }\n",
              "\n",
              "    .dataframe thead th {\n",
              "        text-align: right;\n",
              "    }\n",
              "</style>\n",
              "<table border=\"1\" class=\"dataframe\">\n",
              "  <thead>\n",
              "    <tr style=\"text-align: right;\">\n",
              "      <th></th>\n",
              "      <th>state/region</th>\n",
              "      <th>ages</th>\n",
              "      <th>year</th>\n",
              "      <th>population</th>\n",
              "    </tr>\n",
              "  </thead>\n",
              "  <tbody>\n",
              "    <tr>\n",
              "      <th>0</th>\n",
              "      <td>AL</td>\n",
              "      <td>under18</td>\n",
              "      <td>2012</td>\n",
              "      <td>1117489.0</td>\n",
              "    </tr>\n",
              "    <tr>\n",
              "      <th>1</th>\n",
              "      <td>AL</td>\n",
              "      <td>total</td>\n",
              "      <td>2012</td>\n",
              "      <td>4817528.0</td>\n",
              "    </tr>\n",
              "    <tr>\n",
              "      <th>2</th>\n",
              "      <td>AL</td>\n",
              "      <td>under18</td>\n",
              "      <td>2010</td>\n",
              "      <td>1130966.0</td>\n",
              "    </tr>\n",
              "    <tr>\n",
              "      <th>3</th>\n",
              "      <td>AL</td>\n",
              "      <td>total</td>\n",
              "      <td>2010</td>\n",
              "      <td>4785570.0</td>\n",
              "    </tr>\n",
              "    <tr>\n",
              "      <th>4</th>\n",
              "      <td>AL</td>\n",
              "      <td>under18</td>\n",
              "      <td>2011</td>\n",
              "      <td>1125763.0</td>\n",
              "    </tr>\n",
              "  </tbody>\n",
              "</table>\n",
              "</div>"
            ],
            "text/plain": [
              "  state/region     ages  year  population\n",
              "0           AL  under18  2012   1117489.0\n",
              "1           AL    total  2012   4817528.0\n",
              "2           AL  under18  2010   1130966.0\n",
              "3           AL    total  2010   4785570.0\n",
              "4           AL  under18  2011   1125763.0"
            ]
          },
          "metadata": {
            "tags": []
          },
          "execution_count": 4
        }
      ]
    },
    {
      "cell_type": "code",
      "metadata": {
        "id": "0RkV6W96zJGK",
        "colab_type": "code",
        "colab": {
          "base_uri": "https://localhost:8080/",
          "height": 204
        },
        "outputId": "bc1bc47c-4f37-448c-ffe9-51c18257ac20"
      },
      "source": [
        "areas.head()"
      ],
      "execution_count": 5,
      "outputs": [
        {
          "output_type": "execute_result",
          "data": {
            "text/html": [
              "<div>\n",
              "<style scoped>\n",
              "    .dataframe tbody tr th:only-of-type {\n",
              "        vertical-align: middle;\n",
              "    }\n",
              "\n",
              "    .dataframe tbody tr th {\n",
              "        vertical-align: top;\n",
              "    }\n",
              "\n",
              "    .dataframe thead th {\n",
              "        text-align: right;\n",
              "    }\n",
              "</style>\n",
              "<table border=\"1\" class=\"dataframe\">\n",
              "  <thead>\n",
              "    <tr style=\"text-align: right;\">\n",
              "      <th></th>\n",
              "      <th>state</th>\n",
              "      <th>area (sq. mi)</th>\n",
              "    </tr>\n",
              "  </thead>\n",
              "  <tbody>\n",
              "    <tr>\n",
              "      <th>0</th>\n",
              "      <td>Alabama</td>\n",
              "      <td>52423</td>\n",
              "    </tr>\n",
              "    <tr>\n",
              "      <th>1</th>\n",
              "      <td>Alaska</td>\n",
              "      <td>656425</td>\n",
              "    </tr>\n",
              "    <tr>\n",
              "      <th>2</th>\n",
              "      <td>Arizona</td>\n",
              "      <td>114006</td>\n",
              "    </tr>\n",
              "    <tr>\n",
              "      <th>3</th>\n",
              "      <td>Arkansas</td>\n",
              "      <td>53182</td>\n",
              "    </tr>\n",
              "    <tr>\n",
              "      <th>4</th>\n",
              "      <td>California</td>\n",
              "      <td>163707</td>\n",
              "    </tr>\n",
              "  </tbody>\n",
              "</table>\n",
              "</div>"
            ],
            "text/plain": [
              "        state  area (sq. mi)\n",
              "0     Alabama          52423\n",
              "1      Alaska         656425\n",
              "2     Arizona         114006\n",
              "3    Arkansas          53182\n",
              "4  California         163707"
            ]
          },
          "metadata": {
            "tags": []
          },
          "execution_count": 5
        }
      ]
    },
    {
      "cell_type": "code",
      "metadata": {
        "id": "_pCmeXn3zKyx",
        "colab_type": "code",
        "colab": {
          "base_uri": "https://localhost:8080/",
          "height": 204
        },
        "outputId": "7c04ce5c-28e1-483d-d94b-8645309486c7"
      },
      "source": [
        "abbrevs.head()"
      ],
      "execution_count": 6,
      "outputs": [
        {
          "output_type": "execute_result",
          "data": {
            "text/html": [
              "<div>\n",
              "<style scoped>\n",
              "    .dataframe tbody tr th:only-of-type {\n",
              "        vertical-align: middle;\n",
              "    }\n",
              "\n",
              "    .dataframe tbody tr th {\n",
              "        vertical-align: top;\n",
              "    }\n",
              "\n",
              "    .dataframe thead th {\n",
              "        text-align: right;\n",
              "    }\n",
              "</style>\n",
              "<table border=\"1\" class=\"dataframe\">\n",
              "  <thead>\n",
              "    <tr style=\"text-align: right;\">\n",
              "      <th></th>\n",
              "      <th>state</th>\n",
              "      <th>abbreviation</th>\n",
              "    </tr>\n",
              "  </thead>\n",
              "  <tbody>\n",
              "    <tr>\n",
              "      <th>0</th>\n",
              "      <td>Alabama</td>\n",
              "      <td>AL</td>\n",
              "    </tr>\n",
              "    <tr>\n",
              "      <th>1</th>\n",
              "      <td>Alaska</td>\n",
              "      <td>AK</td>\n",
              "    </tr>\n",
              "    <tr>\n",
              "      <th>2</th>\n",
              "      <td>Arizona</td>\n",
              "      <td>AZ</td>\n",
              "    </tr>\n",
              "    <tr>\n",
              "      <th>3</th>\n",
              "      <td>Arkansas</td>\n",
              "      <td>AR</td>\n",
              "    </tr>\n",
              "    <tr>\n",
              "      <th>4</th>\n",
              "      <td>California</td>\n",
              "      <td>CA</td>\n",
              "    </tr>\n",
              "  </tbody>\n",
              "</table>\n",
              "</div>"
            ],
            "text/plain": [
              "        state abbreviation\n",
              "0     Alabama           AL\n",
              "1      Alaska           AK\n",
              "2     Arizona           AZ\n",
              "3    Arkansas           AR\n",
              "4  California           CA"
            ]
          },
          "metadata": {
            "tags": []
          },
          "execution_count": 6
        }
      ]
    },
    {
      "cell_type": "markdown",
      "metadata": {
        "id": "H2-SY-tozubX",
        "colab_type": "text"
      },
      "source": [
        "We'll start with a many-to-one merge that will give us the full state name within the population DataFrame. We want to merge based on the state/region column of pop, and the abbreviation column of abbrevs. We'll use how='outer' to make sure no data is thrown away due to mismatched labels."
      ]
    },
    {
      "cell_type": "code",
      "metadata": {
        "id": "0gTo3bXGzNFB",
        "colab_type": "code",
        "colab": {}
      },
      "source": [
        "merged = pd.merge(pop, abbrevs, how='outer', left_on='state/region',\n",
        "                  right_on='abbreviation')"
      ],
      "execution_count": 0,
      "outputs": []
    },
    {
      "cell_type": "code",
      "metadata": {
        "id": "1Y1Y8Eb00BYo",
        "colab_type": "code",
        "colab": {
          "base_uri": "https://localhost:8080/",
          "height": 204
        },
        "outputId": "8a0b26e7-d58f-4c6e-b412-75f023935a0d"
      },
      "source": [
        "merged.head()"
      ],
      "execution_count": 8,
      "outputs": [
        {
          "output_type": "execute_result",
          "data": {
            "text/html": [
              "<div>\n",
              "<style scoped>\n",
              "    .dataframe tbody tr th:only-of-type {\n",
              "        vertical-align: middle;\n",
              "    }\n",
              "\n",
              "    .dataframe tbody tr th {\n",
              "        vertical-align: top;\n",
              "    }\n",
              "\n",
              "    .dataframe thead th {\n",
              "        text-align: right;\n",
              "    }\n",
              "</style>\n",
              "<table border=\"1\" class=\"dataframe\">\n",
              "  <thead>\n",
              "    <tr style=\"text-align: right;\">\n",
              "      <th></th>\n",
              "      <th>state/region</th>\n",
              "      <th>ages</th>\n",
              "      <th>year</th>\n",
              "      <th>population</th>\n",
              "      <th>state</th>\n",
              "      <th>abbreviation</th>\n",
              "    </tr>\n",
              "  </thead>\n",
              "  <tbody>\n",
              "    <tr>\n",
              "      <th>0</th>\n",
              "      <td>AL</td>\n",
              "      <td>under18</td>\n",
              "      <td>2012</td>\n",
              "      <td>1117489.0</td>\n",
              "      <td>Alabama</td>\n",
              "      <td>AL</td>\n",
              "    </tr>\n",
              "    <tr>\n",
              "      <th>1</th>\n",
              "      <td>AL</td>\n",
              "      <td>total</td>\n",
              "      <td>2012</td>\n",
              "      <td>4817528.0</td>\n",
              "      <td>Alabama</td>\n",
              "      <td>AL</td>\n",
              "    </tr>\n",
              "    <tr>\n",
              "      <th>2</th>\n",
              "      <td>AL</td>\n",
              "      <td>under18</td>\n",
              "      <td>2010</td>\n",
              "      <td>1130966.0</td>\n",
              "      <td>Alabama</td>\n",
              "      <td>AL</td>\n",
              "    </tr>\n",
              "    <tr>\n",
              "      <th>3</th>\n",
              "      <td>AL</td>\n",
              "      <td>total</td>\n",
              "      <td>2010</td>\n",
              "      <td>4785570.0</td>\n",
              "      <td>Alabama</td>\n",
              "      <td>AL</td>\n",
              "    </tr>\n",
              "    <tr>\n",
              "      <th>4</th>\n",
              "      <td>AL</td>\n",
              "      <td>under18</td>\n",
              "      <td>2011</td>\n",
              "      <td>1125763.0</td>\n",
              "      <td>Alabama</td>\n",
              "      <td>AL</td>\n",
              "    </tr>\n",
              "  </tbody>\n",
              "</table>\n",
              "</div>"
            ],
            "text/plain": [
              "  state/region     ages  year  population    state abbreviation\n",
              "0           AL  under18  2012   1117489.0  Alabama           AL\n",
              "1           AL    total  2012   4817528.0  Alabama           AL\n",
              "2           AL  under18  2010   1130966.0  Alabama           AL\n",
              "3           AL    total  2010   4785570.0  Alabama           AL\n",
              "4           AL  under18  2011   1125763.0  Alabama           AL"
            ]
          },
          "metadata": {
            "tags": []
          },
          "execution_count": 8
        }
      ]
    },
    {
      "cell_type": "code",
      "metadata": {
        "id": "SmOQs5eU0E5g",
        "colab_type": "code",
        "colab": {}
      },
      "source": [
        "merged.drop('abbreviation', axis=1, inplace=True) # Drop duplicate info"
      ],
      "execution_count": 0,
      "outputs": []
    },
    {
      "cell_type": "code",
      "metadata": {
        "id": "5IX3FmYD0YQo",
        "colab_type": "code",
        "colab": {
          "base_uri": "https://localhost:8080/",
          "height": 119
        },
        "outputId": "166edd23-6b37-418c-9208-7672205fae68"
      },
      "source": [
        "merged.isnull().any()"
      ],
      "execution_count": 10,
      "outputs": [
        {
          "output_type": "execute_result",
          "data": {
            "text/plain": [
              "state/region    False\n",
              "ages            False\n",
              "year            False\n",
              "population       True\n",
              "state            True\n",
              "dtype: bool"
            ]
          },
          "metadata": {
            "tags": []
          },
          "execution_count": 10
        }
      ]
    },
    {
      "cell_type": "markdown",
      "metadata": {
        "id": "Zn_ywqZtEhEg",
        "colab_type": "text"
      },
      "source": [
        "Let's see hte null values in the table."
      ]
    },
    {
      "cell_type": "code",
      "metadata": {
        "id": "KMALJrc7Egak",
        "colab_type": "code",
        "colab": {
          "base_uri": "https://localhost:8080/",
          "height": 669
        },
        "outputId": "9b651797-2a10-477c-d09b-e812dd35222b"
      },
      "source": [
        "merged[merged['population'].isnull()]"
      ],
      "execution_count": 12,
      "outputs": [
        {
          "output_type": "execute_result",
          "data": {
            "text/html": [
              "<div>\n",
              "<style scoped>\n",
              "    .dataframe tbody tr th:only-of-type {\n",
              "        vertical-align: middle;\n",
              "    }\n",
              "\n",
              "    .dataframe tbody tr th {\n",
              "        vertical-align: top;\n",
              "    }\n",
              "\n",
              "    .dataframe thead th {\n",
              "        text-align: right;\n",
              "    }\n",
              "</style>\n",
              "<table border=\"1\" class=\"dataframe\">\n",
              "  <thead>\n",
              "    <tr style=\"text-align: right;\">\n",
              "      <th></th>\n",
              "      <th>state/region</th>\n",
              "      <th>ages</th>\n",
              "      <th>year</th>\n",
              "      <th>population</th>\n",
              "      <th>state</th>\n",
              "    </tr>\n",
              "  </thead>\n",
              "  <tbody>\n",
              "    <tr>\n",
              "      <th>2448</th>\n",
              "      <td>PR</td>\n",
              "      <td>under18</td>\n",
              "      <td>1990</td>\n",
              "      <td>NaN</td>\n",
              "      <td>NaN</td>\n",
              "    </tr>\n",
              "    <tr>\n",
              "      <th>2449</th>\n",
              "      <td>PR</td>\n",
              "      <td>total</td>\n",
              "      <td>1990</td>\n",
              "      <td>NaN</td>\n",
              "      <td>NaN</td>\n",
              "    </tr>\n",
              "    <tr>\n",
              "      <th>2450</th>\n",
              "      <td>PR</td>\n",
              "      <td>total</td>\n",
              "      <td>1991</td>\n",
              "      <td>NaN</td>\n",
              "      <td>NaN</td>\n",
              "    </tr>\n",
              "    <tr>\n",
              "      <th>2451</th>\n",
              "      <td>PR</td>\n",
              "      <td>under18</td>\n",
              "      <td>1991</td>\n",
              "      <td>NaN</td>\n",
              "      <td>NaN</td>\n",
              "    </tr>\n",
              "    <tr>\n",
              "      <th>2452</th>\n",
              "      <td>PR</td>\n",
              "      <td>total</td>\n",
              "      <td>1993</td>\n",
              "      <td>NaN</td>\n",
              "      <td>NaN</td>\n",
              "    </tr>\n",
              "    <tr>\n",
              "      <th>2453</th>\n",
              "      <td>PR</td>\n",
              "      <td>under18</td>\n",
              "      <td>1993</td>\n",
              "      <td>NaN</td>\n",
              "      <td>NaN</td>\n",
              "    </tr>\n",
              "    <tr>\n",
              "      <th>2454</th>\n",
              "      <td>PR</td>\n",
              "      <td>under18</td>\n",
              "      <td>1992</td>\n",
              "      <td>NaN</td>\n",
              "      <td>NaN</td>\n",
              "    </tr>\n",
              "    <tr>\n",
              "      <th>2455</th>\n",
              "      <td>PR</td>\n",
              "      <td>total</td>\n",
              "      <td>1992</td>\n",
              "      <td>NaN</td>\n",
              "      <td>NaN</td>\n",
              "    </tr>\n",
              "    <tr>\n",
              "      <th>2456</th>\n",
              "      <td>PR</td>\n",
              "      <td>under18</td>\n",
              "      <td>1994</td>\n",
              "      <td>NaN</td>\n",
              "      <td>NaN</td>\n",
              "    </tr>\n",
              "    <tr>\n",
              "      <th>2457</th>\n",
              "      <td>PR</td>\n",
              "      <td>total</td>\n",
              "      <td>1994</td>\n",
              "      <td>NaN</td>\n",
              "      <td>NaN</td>\n",
              "    </tr>\n",
              "    <tr>\n",
              "      <th>2458</th>\n",
              "      <td>PR</td>\n",
              "      <td>total</td>\n",
              "      <td>1995</td>\n",
              "      <td>NaN</td>\n",
              "      <td>NaN</td>\n",
              "    </tr>\n",
              "    <tr>\n",
              "      <th>2459</th>\n",
              "      <td>PR</td>\n",
              "      <td>under18</td>\n",
              "      <td>1995</td>\n",
              "      <td>NaN</td>\n",
              "      <td>NaN</td>\n",
              "    </tr>\n",
              "    <tr>\n",
              "      <th>2460</th>\n",
              "      <td>PR</td>\n",
              "      <td>under18</td>\n",
              "      <td>1996</td>\n",
              "      <td>NaN</td>\n",
              "      <td>NaN</td>\n",
              "    </tr>\n",
              "    <tr>\n",
              "      <th>2461</th>\n",
              "      <td>PR</td>\n",
              "      <td>total</td>\n",
              "      <td>1996</td>\n",
              "      <td>NaN</td>\n",
              "      <td>NaN</td>\n",
              "    </tr>\n",
              "    <tr>\n",
              "      <th>2462</th>\n",
              "      <td>PR</td>\n",
              "      <td>under18</td>\n",
              "      <td>1998</td>\n",
              "      <td>NaN</td>\n",
              "      <td>NaN</td>\n",
              "    </tr>\n",
              "    <tr>\n",
              "      <th>2463</th>\n",
              "      <td>PR</td>\n",
              "      <td>total</td>\n",
              "      <td>1998</td>\n",
              "      <td>NaN</td>\n",
              "      <td>NaN</td>\n",
              "    </tr>\n",
              "    <tr>\n",
              "      <th>2464</th>\n",
              "      <td>PR</td>\n",
              "      <td>total</td>\n",
              "      <td>1997</td>\n",
              "      <td>NaN</td>\n",
              "      <td>NaN</td>\n",
              "    </tr>\n",
              "    <tr>\n",
              "      <th>2465</th>\n",
              "      <td>PR</td>\n",
              "      <td>under18</td>\n",
              "      <td>1997</td>\n",
              "      <td>NaN</td>\n",
              "      <td>NaN</td>\n",
              "    </tr>\n",
              "    <tr>\n",
              "      <th>2466</th>\n",
              "      <td>PR</td>\n",
              "      <td>total</td>\n",
              "      <td>1999</td>\n",
              "      <td>NaN</td>\n",
              "      <td>NaN</td>\n",
              "    </tr>\n",
              "    <tr>\n",
              "      <th>2467</th>\n",
              "      <td>PR</td>\n",
              "      <td>under18</td>\n",
              "      <td>1999</td>\n",
              "      <td>NaN</td>\n",
              "      <td>NaN</td>\n",
              "    </tr>\n",
              "  </tbody>\n",
              "</table>\n",
              "</div>"
            ],
            "text/plain": [
              "     state/region     ages  year  population state\n",
              "2448           PR  under18  1990         NaN   NaN\n",
              "2449           PR    total  1990         NaN   NaN\n",
              "2450           PR    total  1991         NaN   NaN\n",
              "2451           PR  under18  1991         NaN   NaN\n",
              "2452           PR    total  1993         NaN   NaN\n",
              "2453           PR  under18  1993         NaN   NaN\n",
              "2454           PR  under18  1992         NaN   NaN\n",
              "2455           PR    total  1992         NaN   NaN\n",
              "2456           PR  under18  1994         NaN   NaN\n",
              "2457           PR    total  1994         NaN   NaN\n",
              "2458           PR    total  1995         NaN   NaN\n",
              "2459           PR  under18  1995         NaN   NaN\n",
              "2460           PR  under18  1996         NaN   NaN\n",
              "2461           PR    total  1996         NaN   NaN\n",
              "2462           PR  under18  1998         NaN   NaN\n",
              "2463           PR    total  1998         NaN   NaN\n",
              "2464           PR    total  1997         NaN   NaN\n",
              "2465           PR  under18  1997         NaN   NaN\n",
              "2466           PR    total  1999         NaN   NaN\n",
              "2467           PR  under18  1999         NaN   NaN"
            ]
          },
          "metadata": {
            "tags": []
          },
          "execution_count": 12
        }
      ]
    },
    {
      "cell_type": "markdown",
      "metadata": {
        "id": "m2vg0dLQExXs",
        "colab_type": "text"
      },
      "source": [
        "Here we see that values before year 2000 are null in population and state column. \n",
        "\n",
        "Let's see which region lacks the state values."
      ]
    },
    {
      "cell_type": "code",
      "metadata": {
        "id": "0nFTu97KC7bT",
        "colab_type": "code",
        "colab": {
          "base_uri": "https://localhost:8080/",
          "height": 34
        },
        "outputId": "6ee2596f-3c96-418a-b547-59f838be0b57"
      },
      "source": [
        "merged.loc[merged['state'].isnull(), 'state/region'].unique()"
      ],
      "execution_count": 14,
      "outputs": [
        {
          "output_type": "execute_result",
          "data": {
            "text/plain": [
              "array(['PR', 'USA'], dtype=object)"
            ]
          },
          "metadata": {
            "tags": []
          },
          "execution_count": 14
        }
      ]
    },
    {
      "cell_type": "markdown",
      "metadata": {
        "id": "j_x6KlKIFtCH",
        "colab_type": "text"
      },
      "source": [
        "Here PR stands for Puerto Rico and USA for United States as a whole. "
      ]
    },
    {
      "cell_type": "code",
      "metadata": {
        "id": "erZOCKrTFoVH",
        "colab_type": "code",
        "colab": {
          "base_uri": "https://localhost:8080/",
          "height": 119
        },
        "outputId": "018cd0a4-fabd-481c-84fb-f2ba3f5c1073"
      },
      "source": [
        "merged.loc[merged['state/region'] == 'PR', 'state'] = 'Puerto Rico'\n",
        "merged.loc[merged['state/region'] == 'USA', 'state'] = 'United States'\n",
        "merged.isnull().any()"
      ],
      "execution_count": 15,
      "outputs": [
        {
          "output_type": "execute_result",
          "data": {
            "text/plain": [
              "state/region    False\n",
              "ages            False\n",
              "year            False\n",
              "population       True\n",
              "state           False\n",
              "dtype: bool"
            ]
          },
          "metadata": {
            "tags": []
          },
          "execution_count": 15
        }
      ]
    },
    {
      "cell_type": "markdown",
      "metadata": {
        "id": "lUw_ebImGu2N",
        "colab_type": "text"
      },
      "source": [
        "Now lets merge the last dataframe."
      ]
    },
    {
      "cell_type": "code",
      "metadata": {
        "id": "8DwKRL_XGcv-",
        "colab_type": "code",
        "colab": {
          "base_uri": "https://localhost:8080/",
          "height": 204
        },
        "outputId": "bedd9238-5f81-49fe-f704-471ff99e9e54"
      },
      "source": [
        "final = pd.merge(merged, areas, on='state', how='left') \n",
        "final.head()"
      ],
      "execution_count": 16,
      "outputs": [
        {
          "output_type": "execute_result",
          "data": {
            "text/html": [
              "<div>\n",
              "<style scoped>\n",
              "    .dataframe tbody tr th:only-of-type {\n",
              "        vertical-align: middle;\n",
              "    }\n",
              "\n",
              "    .dataframe tbody tr th {\n",
              "        vertical-align: top;\n",
              "    }\n",
              "\n",
              "    .dataframe thead th {\n",
              "        text-align: right;\n",
              "    }\n",
              "</style>\n",
              "<table border=\"1\" class=\"dataframe\">\n",
              "  <thead>\n",
              "    <tr style=\"text-align: right;\">\n",
              "      <th></th>\n",
              "      <th>state/region</th>\n",
              "      <th>ages</th>\n",
              "      <th>year</th>\n",
              "      <th>population</th>\n",
              "      <th>state</th>\n",
              "      <th>area (sq. mi)</th>\n",
              "    </tr>\n",
              "  </thead>\n",
              "  <tbody>\n",
              "    <tr>\n",
              "      <th>0</th>\n",
              "      <td>AL</td>\n",
              "      <td>under18</td>\n",
              "      <td>2012</td>\n",
              "      <td>1117489.0</td>\n",
              "      <td>Alabama</td>\n",
              "      <td>52423.0</td>\n",
              "    </tr>\n",
              "    <tr>\n",
              "      <th>1</th>\n",
              "      <td>AL</td>\n",
              "      <td>total</td>\n",
              "      <td>2012</td>\n",
              "      <td>4817528.0</td>\n",
              "      <td>Alabama</td>\n",
              "      <td>52423.0</td>\n",
              "    </tr>\n",
              "    <tr>\n",
              "      <th>2</th>\n",
              "      <td>AL</td>\n",
              "      <td>under18</td>\n",
              "      <td>2010</td>\n",
              "      <td>1130966.0</td>\n",
              "      <td>Alabama</td>\n",
              "      <td>52423.0</td>\n",
              "    </tr>\n",
              "    <tr>\n",
              "      <th>3</th>\n",
              "      <td>AL</td>\n",
              "      <td>total</td>\n",
              "      <td>2010</td>\n",
              "      <td>4785570.0</td>\n",
              "      <td>Alabama</td>\n",
              "      <td>52423.0</td>\n",
              "    </tr>\n",
              "    <tr>\n",
              "      <th>4</th>\n",
              "      <td>AL</td>\n",
              "      <td>under18</td>\n",
              "      <td>2011</td>\n",
              "      <td>1125763.0</td>\n",
              "      <td>Alabama</td>\n",
              "      <td>52423.0</td>\n",
              "    </tr>\n",
              "  </tbody>\n",
              "</table>\n",
              "</div>"
            ],
            "text/plain": [
              "  state/region     ages  year  population    state  area (sq. mi)\n",
              "0           AL  under18  2012   1117489.0  Alabama        52423.0\n",
              "1           AL    total  2012   4817528.0  Alabama        52423.0\n",
              "2           AL  under18  2010   1130966.0  Alabama        52423.0\n",
              "3           AL    total  2010   4785570.0  Alabama        52423.0\n",
              "4           AL  under18  2011   1125763.0  Alabama        52423.0"
            ]
          },
          "metadata": {
            "tags": []
          },
          "execution_count": 16
        }
      ]
    },
    {
      "cell_type": "code",
      "metadata": {
        "id": "nephdByjHCfb",
        "colab_type": "code",
        "colab": {
          "base_uri": "https://localhost:8080/",
          "height": 136
        },
        "outputId": "78ef6c7d-038e-46fd-e5f6-cdc634fb5670"
      },
      "source": [
        "final.isnull().any()"
      ],
      "execution_count": 17,
      "outputs": [
        {
          "output_type": "execute_result",
          "data": {
            "text/plain": [
              "state/region     False\n",
              "ages             False\n",
              "year             False\n",
              "population        True\n",
              "state            False\n",
              "area (sq. mi)     True\n",
              "dtype: bool"
            ]
          },
          "metadata": {
            "tags": []
          },
          "execution_count": 17
        }
      ]
    },
    {
      "cell_type": "code",
      "metadata": {
        "id": "CsN0syvpHHUa",
        "colab_type": "code",
        "colab": {
          "base_uri": "https://localhost:8080/",
          "height": 34
        },
        "outputId": "f993fb3f-dd33-43a9-d351-b1b9f125835b"
      },
      "source": [
        "final['state'][final['area (sq. mi)'].isnull()].unique()"
      ],
      "execution_count": 19,
      "outputs": [
        {
          "output_type": "execute_result",
          "data": {
            "text/plain": [
              "array(['United States'], dtype=object)"
            ]
          },
          "metadata": {
            "tags": []
          },
          "execution_count": 19
        }
      ]
    },
    {
      "cell_type": "markdown",
      "metadata": {
        "id": "wu9xPw_LH8ee",
        "colab_type": "text"
      },
      "source": [
        "We see that our areas DataFrame does not contain the area of the United States as a whole. We could insert the appropriate value (using the sum of all state areas, for instance), but in this case we'll just drop the null values because the population density of the entire United States is not relevant to our current discussion."
      ]
    },
    {
      "cell_type": "code",
      "metadata": {
        "id": "okds_QvQHmfs",
        "colab_type": "code",
        "colab": {}
      },
      "source": [
        "final.dropna(inplace=True)"
      ],
      "execution_count": 0,
      "outputs": []
    },
    {
      "cell_type": "code",
      "metadata": {
        "id": "gwo1gBYsIBCy",
        "colab_type": "code",
        "colab": {
          "base_uri": "https://localhost:8080/",
          "height": 204
        },
        "outputId": "b7784ab5-3620-4477-e405-fd559359fda1"
      },
      "source": [
        "final.head()"
      ],
      "execution_count": 21,
      "outputs": [
        {
          "output_type": "execute_result",
          "data": {
            "text/html": [
              "<div>\n",
              "<style scoped>\n",
              "    .dataframe tbody tr th:only-of-type {\n",
              "        vertical-align: middle;\n",
              "    }\n",
              "\n",
              "    .dataframe tbody tr th {\n",
              "        vertical-align: top;\n",
              "    }\n",
              "\n",
              "    .dataframe thead th {\n",
              "        text-align: right;\n",
              "    }\n",
              "</style>\n",
              "<table border=\"1\" class=\"dataframe\">\n",
              "  <thead>\n",
              "    <tr style=\"text-align: right;\">\n",
              "      <th></th>\n",
              "      <th>state/region</th>\n",
              "      <th>ages</th>\n",
              "      <th>year</th>\n",
              "      <th>population</th>\n",
              "      <th>state</th>\n",
              "      <th>area (sq. mi)</th>\n",
              "    </tr>\n",
              "  </thead>\n",
              "  <tbody>\n",
              "    <tr>\n",
              "      <th>0</th>\n",
              "      <td>AL</td>\n",
              "      <td>under18</td>\n",
              "      <td>2012</td>\n",
              "      <td>1117489.0</td>\n",
              "      <td>Alabama</td>\n",
              "      <td>52423.0</td>\n",
              "    </tr>\n",
              "    <tr>\n",
              "      <th>1</th>\n",
              "      <td>AL</td>\n",
              "      <td>total</td>\n",
              "      <td>2012</td>\n",
              "      <td>4817528.0</td>\n",
              "      <td>Alabama</td>\n",
              "      <td>52423.0</td>\n",
              "    </tr>\n",
              "    <tr>\n",
              "      <th>2</th>\n",
              "      <td>AL</td>\n",
              "      <td>under18</td>\n",
              "      <td>2010</td>\n",
              "      <td>1130966.0</td>\n",
              "      <td>Alabama</td>\n",
              "      <td>52423.0</td>\n",
              "    </tr>\n",
              "    <tr>\n",
              "      <th>3</th>\n",
              "      <td>AL</td>\n",
              "      <td>total</td>\n",
              "      <td>2010</td>\n",
              "      <td>4785570.0</td>\n",
              "      <td>Alabama</td>\n",
              "      <td>52423.0</td>\n",
              "    </tr>\n",
              "    <tr>\n",
              "      <th>4</th>\n",
              "      <td>AL</td>\n",
              "      <td>under18</td>\n",
              "      <td>2011</td>\n",
              "      <td>1125763.0</td>\n",
              "      <td>Alabama</td>\n",
              "      <td>52423.0</td>\n",
              "    </tr>\n",
              "  </tbody>\n",
              "</table>\n",
              "</div>"
            ],
            "text/plain": [
              "  state/region     ages  year  population    state  area (sq. mi)\n",
              "0           AL  under18  2012   1117489.0  Alabama        52423.0\n",
              "1           AL    total  2012   4817528.0  Alabama        52423.0\n",
              "2           AL  under18  2010   1130966.0  Alabama        52423.0\n",
              "3           AL    total  2010   4785570.0  Alabama        52423.0\n",
              "4           AL  under18  2011   1125763.0  Alabama        52423.0"
            ]
          },
          "metadata": {
            "tags": []
          },
          "execution_count": 21
        }
      ]
    }
  ]
}